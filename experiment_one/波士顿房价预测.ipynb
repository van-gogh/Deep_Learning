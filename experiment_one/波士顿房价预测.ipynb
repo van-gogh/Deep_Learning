{
 "cells": [
  {
   "cell_type": "markdown",
   "id": "ab90df81",
   "metadata": {},
   "source": [
    "# 线性回归实现波士顿房价预测"
   ]
  },
  {
   "cell_type": "code",
   "execution_count": null,
   "id": "9d531ab4",
   "metadata": {},
   "outputs": [],
   "source": [
    "import socket\n",
    "hostname =socket.gethostname()\n",
    "ip = socket.gethostbyname(hostname)\n",
    "print(\"本机IP地址：\",ip)"
   ]
  },
  {
   "cell_type": "markdown",
   "id": "264aa8f3",
   "metadata": {},
   "source": [
    "## 一、导入数据"
   ]
  },
  {
   "cell_type": "code",
   "execution_count": null,
   "id": "1aff96e0",
   "metadata": {},
   "outputs": [],
   "source": [
    "import torch\n",
    "import torch.nn as nn\n",
    "import pandas as pd\n",
    "from sklearn.datasets import fetch_openml\n",
    "from sklearn.model_selection import train_test_split \n",
    "from sklearn.preprocessing import StandardScaler"
   ]
  },
  {
   "cell_type": "code",
   "execution_count": null,
   "id": "f737e834",
   "metadata": {},
   "outputs": [],
   "source": [
    "boston = fetch_openml(name='boston')\n",
    "X = pd.DataFrame(boston.data, columns=boston.feature_names) \n",
    "y = pd.DataFrame(boston.target, columns=[\"MEDV\"])\n",
    "\n",
    "X"
   ]
  },
  {
   "cell_type": "markdown",
   "id": "378fbaf3",
   "metadata": {},
   "source": [
    "## 二、数据分析"
   ]
  },
  {
   "cell_type": "code",
   "execution_count": null,
   "id": "a3c76b33",
   "metadata": {},
   "outputs": [],
   "source": [
    "X.shape, y.shape"
   ]
  },
  {
   "cell_type": "code",
   "execution_count": null,
   "id": "f912f9c2",
   "metadata": {},
   "outputs": [],
   "source": [
    "X.info()"
   ]
  },
  {
   "cell_type": "code",
   "execution_count": null,
   "id": "1ee5bb9a",
   "metadata": {},
   "outputs": [],
   "source": [
    "X. describe()"
   ]
  },
  {
   "cell_type": "code",
   "execution_count": null,
   "id": "fe7eb2fe",
   "metadata": {},
   "outputs": [],
   "source": [
    "X.isnull().sum()"
   ]
  },
  {
   "cell_type": "code",
   "execution_count": null,
   "id": "e1804415",
   "metadata": {},
   "outputs": [],
   "source": [
    "df = pd.concat([X, y], axis=1)\n",
    "df_corr = df.corr()"
   ]
  },
  {
   "cell_type": "code",
   "execution_count": null,
   "id": "13eb0ca5",
   "metadata": {},
   "outputs": [],
   "source": [
    "import seaborn as sns\n",
    "\n",
    "sns.heatmap(df_corr, cmap = \"coolwarm\", annot = True)"
   ]
  },
  {
   "cell_type": "markdown",
   "id": "1c27728e",
   "metadata": {},
   "source": [
    "## 三、数据预处理"
   ]
  },
  {
   "cell_type": "code",
   "execution_count": null,
   "id": "492589e8",
   "metadata": {},
   "outputs": [],
   "source": [
    "# 数据标准化\n",
    "scaler = StandardScaler()\n",
    "X = scaler.fit_transform(X)"
   ]
  },
  {
   "cell_type": "code",
   "execution_count": null,
   "id": "8bdf389a",
   "metadata": {},
   "outputs": [],
   "source": [
    "# 划分数据集\n",
    "X_train, X_test, y_train, y_test = train_test_split(X, y, test_size=0.2, random_state=42)"
   ]
  },
  {
   "cell_type": "code",
   "execution_count": null,
   "id": "783ae656",
   "metadata": {},
   "outputs": [],
   "source": [
    "# 转换为张量\n",
    "X_train = torch.from_numpy(X_train).float()\n",
    "X_test = torch.from_numpy(X_test).float()\n",
    "y_train =torch. squeeze(torch. from_numpy(y_train. values)). float()\n",
    "y_test = torch.squeeze(torch.from_numpy(y_test.values)).float()"
   ]
  },
  {
   "cell_type": "markdown",
   "id": "4d900211",
   "metadata": {},
   "source": [
    "## 四、构建模型"
   ]
  },
  {
   "cell_type": "markdown",
   "id": "7f2c7c4e",
   "metadata": {},
   "source": [
    "### 构建线性回归模型"
   ]
  },
  {
   "cell_type": "code",
   "execution_count": null,
   "id": "793f8d0e",
   "metadata": {},
   "outputs": [],
   "source": [
    "class LinearRegression(nn.Module): #定义模型类型\n",
    "    def __init__(self, input_dim):\n",
    "        super(LinearRegression, self).__init__() #固定写法\n",
    "        self.linear = nn.Linear(input_dim, 1) #使用torch.nn中的线性回归模型\n",
    "#组建模型框架\n",
    "    def forward(self, x):#模型向前传播\n",
    "        out = self.linear(x) \n",
    "        return out"
   ]
  },
  {
   "cell_type": "markdown",
   "id": "633711ac",
   "metadata": {},
   "source": [
    "### 训练模型"
   ]
  },
  {
   "cell_type": "code",
   "execution_count": null,
   "id": "365d5434",
   "metadata": {},
   "outputs": [],
   "source": [
    "# 定义模型\n",
    "input_dim = X_train.shape[1]\n",
    "# 实例化模型\n",
    "model = LinearRegression(input_dim)\n",
    "# 定义损失函数和优化器\n",
    "criterion = nn.MSELoss() #均方误差\n",
    "optimizer = torch.optim.SGD(model.parameters(), lr=0.003) #随机 梯度下降\n",
    "# 训练模型\n",
    "num_epochs = 1000 #训练1000次\n",
    "losses = [] #记录每100次训练方差 \n",
    "for epoch in range(num_epochs):\n",
    "# 前向传播得到模型输出 \n",
    "    y_pred = model(X_train) \n",
    "    # 计算均方误差\n",
    "    mse = criterion(y_pred, y_train)\n",
    "# 反向传播和优化\n",
    "    optimizer. zero_grad()\n",
    "    mse.backward() #反向传播，计算模型梯度 \n",
    "    optimizer.step() #更新模型参数\n",
    "# 打印日志\n",
    "    if (epoch+1) % 100 == 0:\n",
    "        losses. append(mse. item())\n",
    "        print('Epoch [{}/{}], Loss: {:.4f}'.format(epoch+1,num_epochs, mse.item()))"
   ]
  },
  {
   "cell_type": "markdown",
   "id": "99b0714d",
   "metadata": {},
   "source": [
    "### 训练方差变换趋势图"
   ]
  },
  {
   "cell_type": "code",
   "execution_count": null,
   "id": "568c2c84",
   "metadata": {},
   "outputs": [],
   "source": [
    "import matplotlib.pyplot as plt \n",
    "plt.plot(losses, label=\"train_MSEL\") \n",
    "plt. legend()"
   ]
  },
  {
   "cell_type": "code",
   "execution_count": null,
   "id": "f9ad77b5",
   "metadata": {},
   "outputs": [],
   "source": [
    "# 测试模型\n",
    "with torch.no_grad():\n",
    "    y_pred = model(X_test)\n",
    "    mse = criterion(y_pred, y_test)\n",
    "    print('Test Loss: {:.4f}'.format(mse.item()))"
   ]
  },
  {
   "cell_type": "code",
   "execution_count": null,
   "id": "978061d6",
   "metadata": {},
   "outputs": [],
   "source": [
    "plt. plot(y_pred,color= \"r\") \n",
    "plt. plot(X_test,color= \"b\")"
   ]
  },
  {
   "cell_type": "code",
   "execution_count": null,
   "id": "c28818a8",
   "metadata": {},
   "outputs": [],
   "source": []
  }
 ],
 "metadata": {
  "kernelspec": {
   "display_name": "Python 3 (ipykernel)",
   "language": "python",
   "name": "python3"
  },
  "language_info": {
   "codemirror_mode": {
    "name": "ipython",
    "version": 3
   },
   "file_extension": ".py",
   "mimetype": "text/x-python",
   "name": "python",
   "nbconvert_exporter": "python",
   "pygments_lexer": "ipython3",
   "version": "3.9.16"
  }
 },
 "nbformat": 4,
 "nbformat_minor": 5
}
