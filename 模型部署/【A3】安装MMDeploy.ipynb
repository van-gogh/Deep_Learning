{
 "cells": [
  {
   "cell_type": "markdown",
   "id": "166a315f-47d8-4ca9-9d98-796460bda822",
   "metadata": {},
   "source": [
    "# 安装配置MMDeploy环境\n",
    "\n",
    "按照顺序逐行运行本代码，即可安装配置 MMDeploy 环境\n",
    "\n",
    "推荐代码运行[云GPU环境](https://featurize.cn?s=d7ce99f842414bfcaea5662a97581bd1)：GPU RTX 3060、CUDA v11.2\n",
    "\n",
    "OpenMMLab 主页：https://openmmlab.com/\n",
    "\n",
    "MMDeploy主页：https://github.com/open-mmlab/mmdeploy\n",
    "\n",
    "作者：同济子豪兄 2022-9-5\n",
    "\n",
    "> 提示：以下代码运行时，若长时间运行卡着不动，可重启 kernel 后重新运行一遍"
   ]
  },
  {
   "cell_type": "markdown",
   "id": "49cfae2c-112a-452d-a8fe-288951fa8b7c",
   "metadata": {},
   "source": [
    "> # 以下命令，均在命令行（Shell）中运行\n",
    "\n",
    "## 下载最新版MMDeploy\n",
    "\n",
    "```shell\n",
    "rm -rf mmdeploy\n",
    "\n",
    "git clone https://github.com/open-mmlab/mmdeploy.git --recursive\n",
    "\n",
    "cd mmdeploy\n",
    "\n",
    "```\n",
    "\n",
    "## 备份原始源，并替换为清华源\n",
    "\n",
    "```shell\n",
    "sudo cp /etc/apt/sources.list /etc/apt/sources.list.backup\n",
    "\n",
    "sudo sed -i \"s@http://.*archive.ubuntu.com@https://mirrors.tuna.tsinghua.edu.cn@g\" /etc/apt/sources.list\n",
    "\n",
    "sudo sed -i \"s@http://.*security.ubuntu.com@https://mirrors.tuna.tsinghua.edu.cn@g\" /etc/apt/sources.list\n",
    "\n",
    "sudo apt-get update\n",
    "\n",
    "```\n",
    "\n",
    "## 编译并安装 MMDeploy（耗时大约十分钟）\n",
    "\n",
    "```shell\n",
    "\n",
    "python tools/scripts/build_ubuntu_x64_ort.py\n",
    "\n",
    "```\n",
    "\n",
    "上面的脚本，包括了以下几个子步骤：\n",
    "1. 配置工具链\n",
    "2. 下载并安装推理引擎 onnxruntime，和其他的依赖项\n",
    "3. 编译并安装 mmdeploy 中的 onnxruntime 自定义算子和 mmdeploy inference SDK\n",
    "4. 安装 mmdeploy python 包\n",
    "\n",
    "## 配置环境变量\n",
    "\n",
    "```shell\n",
    "\n",
    "export PYTHONPATH=$(pwd)/build/lib:$PYTHONPATH\n",
    "\n",
    "export LD_LIBRARY_PATH=$(pwd)/build/lib:$(pwd)/../mmdeploy-dep/onnxruntime-linux-x64-1.8.1/lib:$LD_LIBRARY_PATH\n",
    "\n",
    "```"
   ]
  },
  {
   "cell_type": "code",
   "execution_count": null,
   "id": "bf7786fb-80d3-425e-8375-93046584cb0a",
   "metadata": {},
   "outputs": [],
   "source": []
  }
 ],
 "metadata": {
  "kernelspec": {
   "display_name": "Python 3 (ipykernel)",
   "language": "python",
   "name": "python3"
  },
  "language_info": {
   "codemirror_mode": {
    "name": "ipython",
    "version": 3
   },
   "file_extension": ".py",
   "mimetype": "text/x-python",
   "name": "python",
   "nbconvert_exporter": "python",
   "pygments_lexer": "ipython3",
   "version": "3.7.10"
  }
 },
 "nbformat": 4,
 "nbformat_minor": 5
}
