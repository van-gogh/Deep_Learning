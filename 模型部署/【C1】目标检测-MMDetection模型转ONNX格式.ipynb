{
 "cells": [
  {
   "cell_type": "markdown",
   "id": "1b2b1c19-057f-4346-ac43-9313caafa16d",
   "metadata": {},
   "source": [
    "# 目标检测-MMDetection模型转ONNX格式\n",
    "\n",
    "推荐代码运行[云GPU环境](https://featurize.cn?s=d7ce99f842414bfcaea5662a97581bd1)：GPU RTX 3060、CUDA v11.2\n",
    "\n",
    "OpenMMLab 主页：https://openmmlab.com/\n",
    "\n",
    "MMDeploy主页：https://github.com/open-mmlab/mmdeploy\n",
    "\n",
    "作者：同济子豪兄 2022-9-5"
   ]
  },
  {
   "cell_type": "markdown",
   "id": "18124530-5764-4c77-b611-feade536d150",
   "metadata": {},
   "source": [
    "## 进入 mmdetection 目录"
   ]
  },
  {
   "cell_type": "code",
   "execution_count": 1,
   "id": "6167bc16-b333-4ff8-bf25-71d18d6d595d",
   "metadata": {},
   "outputs": [],
   "source": [
    "import os\n",
    "os.chdir('mmdetection')"
   ]
  },
  {
   "cell_type": "markdown",
   "id": "6edb4f29-43a6-4d9c-9e95-133ab710e133",
   "metadata": {},
   "source": [
    "## 下载模型库中目标检测模型"
   ]
  },
  {
   "cell_type": "code",
   "execution_count": 2,
   "id": "a6559eae-a6c1-46b1-8a81-fbce78a202eb",
   "metadata": {},
   "outputs": [
    {
     "name": "stdout",
     "output_type": "stream",
     "text": [
      "--2022-11-01 21:47:04--  https://download.openmmlab.com/mmdetection/v2.0/yolox/yolox_tiny_8x8_300e_coco/yolox_tiny_8x8_300e_coco_20211124_171234-b4047906.pth\n",
      "正在连接 172.16.0.13:5848... 已连接。\n",
      "已发出 Proxy 请求，正在等待回应... 200 OK\n",
      "长度： 20404656 (19M) [application/octet-stream]\n",
      "正在保存至: “checkpoint/yolox_tiny_8x8_300e_coco_20211124_171234-b4047906.pth”\n",
      "\n",
      "yolox_tiny_8x8_300e 100%[===================>]  19.46M  32.8MB/s    用时 0.6s    \n",
      "\n",
      "2022-11-01 21:47:05 (32.8 MB/s) - 已保存 “checkpoint/yolox_tiny_8x8_300e_coco_20211124_171234-b4047906.pth” [20404656/20404656])\n",
      "\n"
     ]
    }
   ],
   "source": [
    "# 下载 YOLOX-tiny 模型权重文件\n",
    "\n",
    "!wget https://download.openmmlab.com/mmdetection/v2.0/yolox/yolox_tiny_8x8_300e_coco/yolox_tiny_8x8_300e_coco_20211124_171234-b4047906.pth -P checkpoint"
   ]
  },
  {
   "cell_type": "code",
   "execution_count": 2,
   "id": "27db2c0f-579e-44a9-81c3-e1a1ecac2670",
   "metadata": {},
   "outputs": [
    {
     "name": "stdout",
     "output_type": "stream",
     "text": [
      "--2022-11-01 21:37:51--  https://download.openmmlab.com/mmdetection/v2.0/faster_rcnn/faster_rcnn_r50_fpn_1x_coco/faster_rcnn_r50_fpn_1x_coco_20200130-047c8118.pth\n",
      "正在连接 172.16.0.13:5848... 已连接。\n",
      "已发出 Proxy 请求，正在等待回应... 200 OK\n",
      "长度： 167287506 (160M) [application/octet-stream]\n",
      "正在保存至: “checkpoint/faster_rcnn_r50_fpn_1x_coco_20200130-047c8118.pth”\n",
      "\n",
      "faster_rcnn_r50_fpn 100%[===================>] 159.54M  18.2MB/s    用时 5.9s    \n",
      "\n",
      "2022-11-01 21:37:57 (27.0 MB/s) - 已保存 “checkpoint/faster_rcnn_r50_fpn_1x_coco_20200130-047c8118.pth” [167287506/167287506])\n",
      "\n"
     ]
    }
   ],
   "source": [
    "# 下载 retinanet 模型权重文件\n",
    "# !wget https://download.openmmlab.com/mmdetection/v2.0/retinanet/retinanet_r18_fpn_1x_coco/retinanet_r18_fpn_1x_coco_20220407_171055-614fd399.pth -P checkpoint\n",
    "\n",
    "# 下载 Faster R-CNN 模型权重文件\n",
    "!wget https://download.openmmlab.com/mmdetection/v2.0/faster_rcnn/faster_rcnn_r50_fpn_1x_coco/faster_rcnn_r50_fpn_1x_coco_20200130-047c8118.pth -P checkpoint\n"
   ]
  },
  {
   "cell_type": "markdown",
   "id": "a0c993f7-6be2-4f1c-8463-ab550730bb63",
   "metadata": {},
   "source": [
    "## 模型转为ONNX中间格式"
   ]
  },
  {
   "cell_type": "code",
   "execution_count": 3,
   "id": "caa419d8-a682-4745-b874-2e988fb1a24c",
   "metadata": {},
   "outputs": [
    {
     "name": "stdout",
     "output_type": "stream",
     "text": [
      "/home/featurize/work/MMDeploy教程-新/1027\n"
     ]
    }
   ],
   "source": [
    "%cd .."
   ]
  },
  {
   "cell_type": "code",
   "execution_count": 6,
   "id": "bbfab55d-4130-49d7-ae4d-43d5b0a97c0d",
   "metadata": {},
   "outputs": [
    {
     "name": "stdout",
     "output_type": "stream",
     "text": [
      "[2022-11-01 21:51:36.851] [mmdeploy] [\u001b[32minfo\u001b[m] [model.cpp:98] Register 'DirectoryModel'\n",
      "[2022-11-01 21:51:38.636] [mmdeploy] [\u001b[32minfo\u001b[m] [model.cpp:98] Register 'DirectoryModel'\n",
      "[2022-11-01 21:51:40.460] [mmdeploy] [\u001b[32minfo\u001b[m] [model.cpp:98] Register 'DirectoryModel'\n",
      "2022-11-01 21:51:40,466 - mmdeploy - INFO - Start pipeline mmdeploy.apis.pytorch2onnx.torch2onnx in subprocess\n",
      "load checkpoint from local path: mmdetection/checkpoint/yolox_tiny_8x8_300e_coco_20211124_171234-b4047906.pth\n",
      "2022-11-01 21:51:42,252 - mmdeploy - WARNING - DeprecationWarning: get_onnx_config will be deprecated in the future. \n",
      "2022-11-01 21:51:42,252 - mmdeploy - INFO - Export PyTorch model to ONNX: mmdeploy_models/mmdetection/yolox/end2end.onnx.\n",
      "/home/featurize/work/MMDeploy教程-新/1027/mmdeploy/mmdeploy/core/optimizers/function_marker.py:158: TracerWarning: Converting a tensor to a Python integer might cause the trace to be incorrect. We can't record the data flow of Python values, so this value will be treated as a constant in the future. This means that the trace might not generalize to other inputs!\n",
      "  ys_shape = tuple(int(s) for s in ys.shape)\n",
      "/environment/miniconda3/lib/python3.7/site-packages/torch/functional.py:445: UserWarning: torch.meshgrid: in an upcoming release, it will be required to pass the indexing argument. (Triggered internally at  ../aten/src/ATen/native/TensorShape.cpp:2157.)\n",
      "  return _VF.meshgrid(tensors, **kwargs)  # type: ignore[attr-defined]\n",
      "/home/featurize/work/MMDeploy教程-新/1027/mmdeploy/mmdeploy/codebase/mmdet/core/post_processing/bbox_nms.py:92: TracerWarning: torch.tensor results are registered as constants in the trace. You can safely ignore this warning if you use this function to create tensors out of constant variables that would be the same every time you call this function. In any other case, this might cause the trace to be incorrect.\n",
      "  iou_threshold = torch.tensor([iou_threshold], dtype=torch.float32)\n",
      "/home/featurize/work/MMDeploy教程-新/1027/mmdeploy/mmdeploy/codebase/mmdet/core/post_processing/bbox_nms.py:93: TracerWarning: torch.tensor results are registered as constants in the trace. You can safely ignore this warning if you use this function to create tensors out of constant variables that would be the same every time you call this function. In any other case, this might cause the trace to be incorrect.\n",
      "  score_threshold = torch.tensor([score_threshold], dtype=torch.float32)\n",
      "/home/featurize/work/MMDeploy教程-新/1027/mmdeploy/mmdeploy/pytorch/functions/topk.py:28: TracerWarning: torch.tensor results are registered as constants in the trace. You can safely ignore this warning if you use this function to create tensors out of constant variables that would be the same every time you call this function. In any other case, this might cause the trace to be incorrect.\n",
      "  k = torch.tensor(k, device=input.device, dtype=torch.long)\n",
      "/home/featurize/work/MMDeploy教程-新/1027/mmdeploy/mmdeploy/pytorch/functions/topk.py:33: TracerWarning: Converting a tensor to a Python integer might cause the trace to be incorrect. We can't record the data flow of Python values, so this value will be treated as a constant in the future. This means that the trace might not generalize to other inputs!\n",
      "  return ctx.origin_func(input, k, dim=dim, largest=largest, sorted=sorted)\n",
      "/home/featurize/work/MMDeploy教程-新/1027/mmdeploy/mmdeploy/mmcv/ops/nms.py:40: TracerWarning: Converting a tensor to a Python float might cause the trace to be incorrect. We can't record the data flow of Python values, so this value will be treated as a constant in the future. This means that the trace might not generalize to other inputs!\n",
      "  score_threshold = float(score_threshold)\n",
      "/home/featurize/work/MMDeploy教程-新/1027/mmdeploy/mmdeploy/mmcv/ops/nms.py:41: TracerWarning: Converting a tensor to a Python float might cause the trace to be incorrect. We can't record the data flow of Python values, so this value will be treated as a constant in the future. This means that the trace might not generalize to other inputs!\n",
      "  iou_threshold = float(iou_threshold)\n",
      "/environment/miniconda3/lib/python3.7/site-packages/mmcv/ops/nms.py:171: TracerWarning: Converting a tensor to a Python boolean might cause the trace to be incorrect. We can't record the data flow of Python values, so this value will be treated as a constant in the future. This means that the trace might not generalize to other inputs!\n",
      "  assert boxes.size(1) == 4\n",
      "/environment/miniconda3/lib/python3.7/site-packages/mmcv/ops/nms.py:172: TracerWarning: Converting a tensor to a Python boolean might cause the trace to be incorrect. We can't record the data flow of Python values, so this value will be treated as a constant in the future. This means that the trace might not generalize to other inputs!\n",
      "  assert boxes.size(0) == scores.size(0)\n",
      "/environment/miniconda3/lib/python3.7/site-packages/mmcv/ops/nms.py:31: TracerWarning: Converting a tensor to a Python boolean might cause the trace to be incorrect. We can't record the data flow of Python values, so this value will be treated as a constant in the future. This means that the trace might not generalize to other inputs!\n",
      "  if max_num > 0:\n",
      "/environment/miniconda3/lib/python3.7/site-packages/torch/onnx/symbolic_opset9.py:2819: UserWarning: Exporting aten::index operator of advanced indexing in opset 11 is achieved by combination of multiple ONNX operators, including Reshape, Transpose, Concat, and Gather. If indices include negative values, the exported graph will produce incorrect results.\n",
      "  \"If indices include negative values, the exported graph will produce incorrect results.\")\n",
      "2022-11-01 21:51:49,997 - mmdeploy - INFO - Execute onnx optimize passes.\n",
      "2022-11-01 21:51:50,409 - mmdeploy - INFO - Finish pipeline mmdeploy.apis.pytorch2onnx.torch2onnx\n",
      "2022-11-01 21:51:51,005 - mmdeploy - INFO - visualize onnxruntime model start.\n",
      "[2022-11-01 21:51:52.861] [mmdeploy] [\u001b[32minfo\u001b[m] [model.cpp:98] Register 'DirectoryModel'\n",
      "2022-11-01 21:51:54,462 - mmdeploy - INFO - Successfully loaded onnxruntime custom ops from             /home/featurize/work/MMDeploy教程-新/1027/mmdeploy/mmdeploy/lib/libmmdeploy_onnxruntime_ops.so\n",
      "2022-11-01:21:51:54 - mmdeploy - INFO - Successfully loaded onnxruntime custom ops from             /home/featurize/work/MMDeploy教程-新/1027/mmdeploy/mmdeploy/lib/libmmdeploy_onnxruntime_ops.so\n",
      "2022-11-01 21:51:54.492309658 [W:onnxruntime:, graph.cc:3211 CleanUnusedInitializers] Removing initializer '1641'. It is not used by any node and should be removed from the model.\n",
      "2022-11-01 21:51:54.492342088 [W:onnxruntime:, graph.cc:3211 CleanUnusedInitializers] Removing initializer '1640'. It is not used by any node and should be removed from the model.\n",
      "2022-11-01 21:51:54.492347701 [W:onnxruntime:, graph.cc:3211 CleanUnusedInitializers] Removing initializer '1637'. It is not used by any node and should be removed from the model.\n",
      "2022-11-01 21:51:54.492351965 [W:onnxruntime:, graph.cc:3211 CleanUnusedInitializers] Removing initializer '1636'. It is not used by any node and should be removed from the model.\n",
      "2022-11-01 21:51:54.492356412 [W:onnxruntime:, graph.cc:3211 CleanUnusedInitializers] Removing initializer '1634'. It is not used by any node and should be removed from the model.\n",
      "2022-11-01 21:51:54.492360232 [W:onnxruntime:, graph.cc:3211 CleanUnusedInitializers] Removing initializer '1632'. It is not used by any node and should be removed from the model.\n",
      "2022-11-01 21:51:54.492364488 [W:onnxruntime:, graph.cc:3211 CleanUnusedInitializers] Removing initializer '1629'. It is not used by any node and should be removed from the model.\n",
      "2022-11-01 21:51:54.492368469 [W:onnxruntime:, graph.cc:3211 CleanUnusedInitializers] Removing initializer '1628'. It is not used by any node and should be removed from the model.\n",
      "2022-11-01 21:51:54.492372677 [W:onnxruntime:, graph.cc:3211 CleanUnusedInitializers] Removing initializer '1626'. It is not used by any node and should be removed from the model.\n",
      "2022-11-01 21:51:54.492376645 [W:onnxruntime:, graph.cc:3211 CleanUnusedInitializers] Removing initializer '1622'. It is not used by any node and should be removed from the model.\n",
      "2022-11-01 21:51:54.492380648 [W:onnxruntime:, graph.cc:3211 CleanUnusedInitializers] Removing initializer '1616'. It is not used by any node and should be removed from the model.\n",
      "2022-11-01 21:51:54.492384450 [W:onnxruntime:, graph.cc:3211 CleanUnusedInitializers] Removing initializer '1615'. It is not used by any node and should be removed from the model.\n",
      "2022-11-01 21:51:54.492388610 [W:onnxruntime:, graph.cc:3211 CleanUnusedInitializers] Removing initializer '1613'. It is not used by any node and should be removed from the model.\n",
      "2022-11-01 21:51:54.492392459 [W:onnxruntime:, graph.cc:3211 CleanUnusedInitializers] Removing initializer '1604'. It is not used by any node and should be removed from the model.\n",
      "2022-11-01 21:51:54.492397229 [W:onnxruntime:, graph.cc:3211 CleanUnusedInitializers] Removing initializer '1603'. It is not used by any node and should be removed from the model.\n",
      "2022-11-01 21:51:54.492401080 [W:onnxruntime:, graph.cc:3211 CleanUnusedInitializers] Removing initializer '1595'. It is not used by any node and should be removed from the model.\n",
      "2022-11-01 21:51:54.492405445 [W:onnxruntime:, graph.cc:3211 CleanUnusedInitializers] Removing initializer '1594'. It is not used by any node and should be removed from the model.\n",
      "2022-11-01 21:51:54.492409539 [W:onnxruntime:, graph.cc:3211 CleanUnusedInitializers] Removing initializer '1607'. It is not used by any node and should be removed from the model.\n",
      "2022-11-01 21:51:54.492413876 [W:onnxruntime:, graph.cc:3211 CleanUnusedInitializers] Removing initializer '1591'. It is not used by any node and should be removed from the model.\n",
      "2022-11-01 21:51:54.492417854 [W:onnxruntime:, graph.cc:3211 CleanUnusedInitializers] Removing initializer '1605'. It is not used by any node and should be removed from the model.\n",
      "2022-11-01 21:51:54.492422495 [W:onnxruntime:, graph.cc:3211 CleanUnusedInitializers] Removing initializer '1589'. It is not used by any node and should be removed from the model.\n",
      "2022-11-01 21:51:54.492426911 [W:onnxruntime:, graph.cc:3211 CleanUnusedInitializers] Removing initializer '1587'. It is not used by any node and should be removed from the model.\n",
      "2022-11-01 21:51:54.492431852 [W:onnxruntime:, graph.cc:3211 CleanUnusedInitializers] Removing initializer '1633'. It is not used by any node and should be removed from the model.\n",
      "2022-11-01 21:51:54.492435744 [W:onnxruntime:, graph.cc:3211 CleanUnusedInitializers] Removing initializer '1600'. It is not used by any node and should be removed from the model.\n",
      "2022-11-01 21:51:54.492445534 [W:onnxruntime:, graph.cc:3211 CleanUnusedInitializers] Removing initializer '1598'. It is not used by any node and should be removed from the model.\n",
      "2022-11-01 21:51:54.492449951 [W:onnxruntime:, graph.cc:3211 CleanUnusedInitializers] Removing initializer '1620'. It is not used by any node and should be removed from the model.\n",
      "2022-11-01 21:51:54.492455399 [W:onnxruntime:, graph.cc:3211 CleanUnusedInitializers] Removing initializer '1614'. It is not used by any node and should be removed from the model.\n",
      "2022-11-01 21:51:54.492460584 [W:onnxruntime:, graph.cc:3211 CleanUnusedInitializers] Removing initializer '1627'. It is not used by any node and should be removed from the model.\n",
      "2022-11-01 21:51:54.492466730 [W:onnxruntime:, graph.cc:3211 CleanUnusedInitializers] Removing initializer '1635'. It is not used by any node and should be removed from the model.\n",
      "2022-11-01 21:51:54.492472180 [W:onnxruntime:, graph.cc:3211 CleanUnusedInitializers] Removing initializer '1612'. It is not used by any node and should be removed from the model.\n",
      "2022-11-01 21:51:54.492491126 [W:onnxruntime:, graph.cc:3211 CleanUnusedInitializers] Removing initializer '1624'. It is not used by any node and should be removed from the model.\n",
      "2022-11-01 21:51:54.492498728 [W:onnxruntime:, graph.cc:3211 CleanUnusedInitializers] Removing initializer '1606'. It is not used by any node and should be removed from the model.\n",
      "2022-11-01 21:51:54.492503295 [W:onnxruntime:, graph.cc:3211 CleanUnusedInitializers] Removing initializer '1618'. It is not used by any node and should be removed from the model.\n",
      "2022-11-01 21:51:54.492507919 [W:onnxruntime:, graph.cc:3211 CleanUnusedInitializers] Removing initializer '1621'. It is not used by any node and should be removed from the model.\n",
      "2022-11-01 21:51:54.492512215 [W:onnxruntime:, graph.cc:3211 CleanUnusedInitializers] Removing initializer '1601'. It is not used by any node and should be removed from the model.\n",
      "2022-11-01 21:51:54.492518233 [W:onnxruntime:, graph.cc:3211 CleanUnusedInitializers] Removing initializer '1609'. It is not used by any node and should be removed from the model.\n",
      "2022-11-01 21:51:54.492522972 [W:onnxruntime:, graph.cc:3211 CleanUnusedInitializers] Removing initializer '1599'. It is not used by any node and should be removed from the model.\n",
      "2022-11-01 21:51:54.492528327 [W:onnxruntime:, graph.cc:3211 CleanUnusedInitializers] Removing initializer '1597'. It is not used by any node and should be removed from the model.\n",
      "2022-11-01 21:51:54.492537313 [W:onnxruntime:, graph.cc:3211 CleanUnusedInitializers] Removing initializer '1638'. It is not used by any node and should be removed from the model.\n",
      "2022-11-01 21:51:54.492541522 [W:onnxruntime:, graph.cc:3211 CleanUnusedInitializers] Removing initializer '1623'. It is not used by any node and should be removed from the model.\n",
      "2022-11-01 21:51:54.492548139 [W:onnxruntime:, graph.cc:3211 CleanUnusedInitializers] Removing initializer '1631'. It is not used by any node and should be removed from the model.\n",
      "2022-11-01 21:51:54.492552356 [W:onnxruntime:, graph.cc:3211 CleanUnusedInitializers] Removing initializer '1610'. It is not used by any node and should be removed from the model.\n",
      "2022-11-01 21:51:54.492557399 [W:onnxruntime:, graph.cc:3211 CleanUnusedInitializers] Removing initializer '1619'. It is not used by any node and should be removed from the model.\n",
      "2022-11-01 21:51:54.492563990 [W:onnxruntime:, graph.cc:3211 CleanUnusedInitializers] Removing initializer '1588'. It is not used by any node and should be removed from the model.\n",
      "2022-11-01 21:51:54,681 - mmdeploy - WARNING - render and display result skipped for headless device, exception no display name and no $DISPLAY environment variable\n",
      "2022-11-01:21:51:54 - mmdeploy - WARNING - render and display result skipped for headless device, exception no display name and no $DISPLAY environment variable\n",
      "2022-11-01 21:51:55,201 - mmdeploy - INFO - visualize onnxruntime model success.\n",
      "2022-11-01 21:51:55,202 - mmdeploy - INFO - visualize pytorch model start.\n",
      "[2022-11-01 21:51:57.141] [mmdeploy] [\u001b[32minfo\u001b[m] [model.cpp:98] Register 'DirectoryModel'\n",
      "load checkpoint from local path: mmdetection/checkpoint/yolox_tiny_8x8_300e_coco_20211124_171234-b4047906.pth\n",
      "/environment/miniconda3/lib/python3.7/site-packages/torch/functional.py:445: UserWarning: torch.meshgrid: in an upcoming release, it will be required to pass the indexing argument. (Triggered internally at  ../aten/src/ATen/native/TensorShape.cpp:2157.)\n",
      "  return _VF.meshgrid(tensors, **kwargs)  # type: ignore[attr-defined]\n",
      "2022-11-01 21:51:59,063 - mmdeploy - WARNING - render and display result skipped for headless device, exception no display name and no $DISPLAY environment variable\n",
      "2022-11-01:21:51:59 - mmdeploy - WARNING - render and display result skipped for headless device, exception no display name and no $DISPLAY environment variable\n",
      "2022-11-01 21:51:59,672 - mmdeploy - INFO - visualize pytorch model success.\n",
      "2022-11-01 21:51:59,673 - mmdeploy - INFO - All process success.\n"
     ]
    }
   ],
   "source": [
    "!python mmdeploy/tools/deploy.py \\\n",
    "        mmdeploy/configs/mmdet/detection/detection_onnxruntime_dynamic.py \\\n",
    "        mmdetection/configs/yolox/yolox_tiny_8x8_300e_coco.py \\\n",
    "        mmdetection/checkpoint/yolox_tiny_8x8_300e_coco_20211124_171234-b4047906.pth \\\n",
    "        mmdetection/demo/demo.jpg \\\n",
    "        --work-dir mmdeploy_models/mmdetection/yolox \\\n",
    "        --device cpu"
   ]
  },
  {
   "cell_type": "code",
   "execution_count": null,
   "id": "2d581498-adce-4ef5-9e82-351d3bf8ec3d",
   "metadata": {},
   "outputs": [],
   "source": []
  }
 ],
 "metadata": {
  "kernelspec": {
   "display_name": "Python 3 (ipykernel)",
   "language": "python",
   "name": "python3"
  },
  "language_info": {
   "codemirror_mode": {
    "name": "ipython",
    "version": 3
   },
   "file_extension": ".py",
   "mimetype": "text/x-python",
   "name": "python",
   "nbconvert_exporter": "python",
   "pygments_lexer": "ipython3",
   "version": "3.7.10"
  }
 },
 "nbformat": 4,
 "nbformat_minor": 5
}
