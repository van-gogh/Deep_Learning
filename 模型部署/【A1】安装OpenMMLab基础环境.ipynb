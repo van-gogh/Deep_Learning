{
 "cells": [
  {
   "cell_type": "markdown",
   "id": "166a315f-47d8-4ca9-9d98-796460bda822",
   "metadata": {},
   "source": [
    "# 安装配置OpenMMLab基础环境\n",
    "\n",
    "按照顺序逐行运行本代码，即可安装配置 MMCV、MMClassification、MMDetection 环境\n",
    "\n",
    "推荐代码运行[云GPU环境](https://featurize.cn?s=d7ce99f842414bfcaea5662a97581bd1)：GPU RTX 3060、CUDA v11.2\n",
    "\n",
    "OpenMMLab 主页：https://openmmlab.com/\n",
    "\n",
    "MMDeploy主页：https://github.com/open-mmlab/mmdeploy\n",
    "\n",
    "作者：同济子豪兄 2022-9-5\n",
    "\n",
    "> 提示：以下代码运行时，若长时间运行卡着不动，可重启 kernel 后重新运行一遍"
   ]
  },
  {
   "cell_type": "code",
   "execution_count": 1,
   "id": "101f0f55-2dc1-4f90-8792-923966eeb1da",
   "metadata": {},
   "outputs": [],
   "source": [
    "import os"
   ]
  },
  {
   "cell_type": "markdown",
   "id": "ec848533-5bc1-4cea-a337-65e66cff0178",
   "metadata": {
    "tags": []
   },
   "source": [
    "## 安装Pytorch"
   ]
  },
  {
   "cell_type": "code",
   "execution_count": 2,
   "id": "8f5d3e3a-820f-4614-8865-f1801dc1db77",
   "metadata": {},
   "outputs": [
    {
     "name": "stdout",
     "output_type": "stream",
     "text": [
      "Looking in indexes: https://pypi.tuna.tsinghua.edu.cn/simple, https://download.pytorch.org/whl/cu113\n",
      "Requirement already satisfied: torch in /environment/miniconda3/lib/python3.7/site-packages (1.10.0+cu113)\n",
      "Requirement already satisfied: torchvision in /environment/miniconda3/lib/python3.7/site-packages (0.11.1+cu113)\n",
      "Requirement already satisfied: typing-extensions in /environment/miniconda3/lib/python3.7/site-packages (from torch) (4.0.1)\n",
      "Requirement already satisfied: pillow!=8.3.0,>=5.3.0 in /environment/miniconda3/lib/python3.7/site-packages (from torchvision) (8.4.0)\n",
      "Requirement already satisfied: numpy in /environment/miniconda3/lib/python3.7/site-packages (from torchvision) (1.21.4)\n"
     ]
    }
   ],
   "source": [
    "!pip3 install torch torchvision --extra-index-url https://download.pytorch.org/whl/cu113"
   ]
  },
  {
   "cell_type": "markdown",
   "id": "af4051b1-132a-4988-8f1f-e417ee71f58d",
   "metadata": {},
   "source": [
    "## 安装 mmcv-full"
   ]
  },
  {
   "cell_type": "code",
   "execution_count": 3,
   "id": "00658938-c53f-4e28-b233-f39be92ff012",
   "metadata": {},
   "outputs": [
    {
     "name": "stdout",
     "output_type": "stream",
     "text": [
      "Looking in indexes: https://pypi.tuna.tsinghua.edu.cn/simple\n",
      "Collecting openmim\n",
      "  Downloading https://pypi.tuna.tsinghua.edu.cn/packages/06/74/6354469b464671438b927417cdde470353d2fa3a8df67817d925c3c8f17a/openmim-0.3.2-py2.py3-none-any.whl (50 kB)\n",
      "\u001b[K     |████████████████████████████████| 50 kB 41.3 MB/s eta 0:00:01\n",
      "\u001b[?25hRequirement already satisfied: tabulate in /environment/miniconda3/lib/python3.7/site-packages (from openmim) (0.8.7)\n",
      "Requirement already satisfied: colorama in /environment/miniconda3/lib/python3.7/site-packages (from openmim) (0.4.4)\n",
      "Requirement already satisfied: Click in /environment/miniconda3/lib/python3.7/site-packages (from openmim) (7.1.2)\n",
      "Requirement already satisfied: requests in /environment/miniconda3/lib/python3.7/site-packages (from openmim) (2.24.0)\n",
      "Collecting rich\n",
      "  Downloading https://pypi.tuna.tsinghua.edu.cn/packages/32/60/81ac2e7d1e3b861ab478a72e3b20fc91c4302acd2274822e493758941829/rich-12.6.0-py3-none-any.whl (237 kB)\n",
      "\u001b[K     |████████████████████████████████| 237 kB 66.1 MB/s eta 0:00:01\n",
      "\u001b[?25hRequirement already satisfied: pandas in /environment/miniconda3/lib/python3.7/site-packages (from openmim) (1.3.4)\n",
      "Requirement already satisfied: pip>=19.3 in /environment/miniconda3/lib/python3.7/site-packages (from openmim) (21.1.3)\n",
      "Collecting model-index\n",
      "  Downloading https://pypi.tuna.tsinghua.edu.cn/packages/0f/a6/4d4cbbef704f186d143e2859296a610a355992e4eae71582bd598093b36a/model_index-0.1.11-py3-none-any.whl (34 kB)\n",
      "Requirement already satisfied: markdown in /environment/miniconda3/lib/python3.7/site-packages (from model-index->openmim) (3.3.6)\n",
      "Collecting ordered-set\n",
      "  Downloading https://pypi.tuna.tsinghua.edu.cn/packages/33/55/af02708f230eb77084a299d7b08175cff006dea4f2721074b92cdb0296c0/ordered_set-4.1.0-py3-none-any.whl (7.6 kB)\n",
      "Requirement already satisfied: pyyaml in /environment/miniconda3/lib/python3.7/site-packages (from model-index->openmim) (6.0)\n",
      "Requirement already satisfied: importlib-metadata>=4.4 in /environment/miniconda3/lib/python3.7/site-packages (from markdown->model-index->openmim) (4.8.2)\n",
      "Requirement already satisfied: zipp>=0.5 in /environment/miniconda3/lib/python3.7/site-packages (from importlib-metadata>=4.4->markdown->model-index->openmim) (3.6.0)\n",
      "Requirement already satisfied: typing-extensions>=3.6.4 in /environment/miniconda3/lib/python3.7/site-packages (from importlib-metadata>=4.4->markdown->model-index->openmim) (4.0.1)\n",
      "Requirement already satisfied: python-dateutil>=2.7.3 in /environment/miniconda3/lib/python3.7/site-packages (from pandas->openmim) (2.8.2)\n",
      "Requirement already satisfied: pytz>=2017.3 in /environment/miniconda3/lib/python3.7/site-packages (from pandas->openmim) (2021.3)\n",
      "Requirement already satisfied: numpy>=1.17.3 in /environment/miniconda3/lib/python3.7/site-packages (from pandas->openmim) (1.21.4)\n",
      "Requirement already satisfied: six>=1.5 in /environment/miniconda3/lib/python3.7/site-packages (from python-dateutil>=2.7.3->pandas->openmim) (1.16.0)\n",
      "Requirement already satisfied: chardet<4,>=3.0.2 in /environment/miniconda3/lib/python3.7/site-packages (from requests->openmim) (3.0.4)\n",
      "Requirement already satisfied: urllib3!=1.25.0,!=1.25.1,<1.26,>=1.21.1 in /environment/miniconda3/lib/python3.7/site-packages (from requests->openmim) (1.25.11)\n",
      "Requirement already satisfied: certifi>=2017.4.17 in /environment/miniconda3/lib/python3.7/site-packages (from requests->openmim) (2021.5.30)\n",
      "Requirement already satisfied: idna<3,>=2.5 in /environment/miniconda3/lib/python3.7/site-packages (from requests->openmim) (2.10)\n",
      "Requirement already satisfied: pygments<3.0.0,>=2.6.0 in /environment/miniconda3/lib/python3.7/site-packages (from rich->openmim) (2.10.0)\n",
      "Collecting commonmark<0.10.0,>=0.9.0\n",
      "  Downloading https://pypi.tuna.tsinghua.edu.cn/packages/b1/92/dfd892312d822f36c55366118b95d914e5f16de11044a27cf10a7d71bbbf/commonmark-0.9.1-py2.py3-none-any.whl (51 kB)\n",
      "\u001b[K     |████████████████████████████████| 51 kB 48.4 MB/s eta 0:00:01\n",
      "\u001b[?25hInstalling collected packages: ordered-set, commonmark, rich, model-index, openmim\n",
      "Successfully installed commonmark-0.9.1 model-index-0.1.11 openmim-0.3.2 ordered-set-4.1.0 rich-12.6.0\n",
      "Looking in indexes: https://pypi.tuna.tsinghua.edu.cn/simple\n",
      "Looking in links: https://download.openmmlab.com/mmcv/dist/cu113/torch1.10.0/index.html\n",
      "Collecting mmcv-full\n",
      "  Downloading https://download.openmmlab.com/mmcv/dist/cu113/torch1.10.0/mmcv_full-1.6.2-cp37-cp37m-manylinux1_x86_64.whl (54.2 MB)\n",
      "\u001b[K     |████████████████████████████████| 54.2 MB 178 kB/s eta 0:00:01     |████████████████████▋           | 34.9 MB 3.0 MB/s eta 0:00:07     |█████████████████████▎          | 36.0 MB 3.0 MB/s eta 0:00:07\n",
      "\u001b[?25hRequirement already satisfied: yapf in /environment/miniconda3/lib/python3.7/site-packages (from mmcv-full) (0.31.0)\n",
      "Requirement already satisfied: packaging in /environment/miniconda3/lib/python3.7/site-packages (from mmcv-full) (21.3)\n",
      "Requirement already satisfied: Pillow in /environment/miniconda3/lib/python3.7/site-packages (from mmcv-full) (8.4.0)\n",
      "Requirement already satisfied: pyyaml in /environment/miniconda3/lib/python3.7/site-packages (from mmcv-full) (6.0)\n",
      "Collecting addict\n",
      "  Downloading https://pypi.tuna.tsinghua.edu.cn/packages/6a/00/b08f23b7d7e1e14ce01419a467b583edbb93c6cdb8654e54a9cc579cd61f/addict-2.4.0-py3-none-any.whl (3.8 kB)\n",
      "Requirement already satisfied: numpy in /environment/miniconda3/lib/python3.7/site-packages (from mmcv-full) (1.21.4)\n",
      "Requirement already satisfied: opencv-python>=3 in /environment/miniconda3/lib/python3.7/site-packages (from mmcv-full) (4.5.4.60)\n",
      "Requirement already satisfied: pyparsing!=3.0.5,>=2.0.2 in /environment/miniconda3/lib/python3.7/site-packages (from packaging->mmcv-full) (3.0.6)\n",
      "Installing collected packages: addict, mmcv-full\n",
      "Successfully installed addict-2.4.0 mmcv-full-1.6.2\n"
     ]
    }
   ],
   "source": [
    "!pip3 install openmim\n",
    "!mim install mmcv-full"
   ]
  },
  {
   "cell_type": "code",
   "execution_count": 4,
   "id": "5a1f132d-252d-430c-a5de-a2e5a8809cdb",
   "metadata": {},
   "outputs": [],
   "source": [
    "# 安装mmcv -full\n",
    "# !pip install mmcv-full -f https://download.openmmlab.com/mmcv/dist/cu113/torch1.10.0/index.html"
   ]
  },
  {
   "cell_type": "markdown",
   "id": "107432d2-3a5a-406c-b79e-6cecabe94c3c",
   "metadata": {},
   "source": [
    "## 安装 MMClassification"
   ]
  },
  {
   "cell_type": "code",
   "execution_count": 5,
   "id": "8ae3868b-964f-4995-aa73-933fd21da46f",
   "metadata": {},
   "outputs": [],
   "source": [
    "# 删除原有的 mmclassification 目录（如有）\n",
    "!rm -rf mmclassification"
   ]
  },
  {
   "cell_type": "code",
   "execution_count": 6,
   "id": "f8697dd5-a321-4626-a0d3-f28cb1e2b231",
   "metadata": {},
   "outputs": [
    {
     "name": "stdout",
     "output_type": "stream",
     "text": [
      "正克隆到 'mmclassification'...\n",
      "remote: Enumerating objects: 10612, done.\u001b[K\n",
      "remote: Counting objects: 100% (287/287), done.\u001b[K\n",
      "remote: Compressing objects: 100% (220/220), done.\u001b[K\n",
      "remote: Total 10612 (delta 103), reused 181 (delta 60), pack-reused 10325\u001b[K\n",
      "接收对象中: 100% (10612/10612), 10.65 MiB | 12.70 MiB/s, 完成.\n",
      "处理 delta 中: 100% (7318/7318), 完成.\n"
     ]
    }
   ],
   "source": [
    "!git clone https://github.com/open-mmlab/mmclassification.git"
   ]
  },
  {
   "cell_type": "code",
   "execution_count": 7,
   "id": "ef343f60-2b5a-49a6-810d-29c19c9c3066",
   "metadata": {},
   "outputs": [
    {
     "name": "stdout",
     "output_type": "stream",
     "text": [
      "/home/featurize/work/MMDeploy教程-新/1027/mmclassification\n",
      "Looking in indexes: https://pypi.tuna.tsinghua.edu.cn/simple\n",
      "Obtaining file:///home/featurize/work/MMDeploy%E6%95%99%E7%A8%8B-%E6%96%B0/1027/mmclassification\n",
      "Requirement already satisfied: matplotlib>=3.1.0 in /environment/miniconda3/lib/python3.7/site-packages (from mmcls==0.24.1) (3.5.0)\n",
      "Requirement already satisfied: numpy in /environment/miniconda3/lib/python3.7/site-packages (from mmcls==0.24.1) (1.21.4)\n",
      "Requirement already satisfied: packaging in /environment/miniconda3/lib/python3.7/site-packages (from mmcls==0.24.1) (21.3)\n",
      "Requirement already satisfied: fonttools>=4.22.0 in /environment/miniconda3/lib/python3.7/site-packages (from matplotlib>=3.1.0->mmcls==0.24.1) (4.28.3)\n",
      "Requirement already satisfied: kiwisolver>=1.0.1 in /environment/miniconda3/lib/python3.7/site-packages (from matplotlib>=3.1.0->mmcls==0.24.1) (1.3.2)\n",
      "Requirement already satisfied: pillow>=6.2.0 in /environment/miniconda3/lib/python3.7/site-packages (from matplotlib>=3.1.0->mmcls==0.24.1) (8.4.0)\n",
      "Requirement already satisfied: pyparsing>=2.2.1 in /environment/miniconda3/lib/python3.7/site-packages (from matplotlib>=3.1.0->mmcls==0.24.1) (3.0.6)\n",
      "Requirement already satisfied: python-dateutil>=2.7 in /environment/miniconda3/lib/python3.7/site-packages (from matplotlib>=3.1.0->mmcls==0.24.1) (2.8.2)\n",
      "Requirement already satisfied: setuptools-scm>=4 in /environment/miniconda3/lib/python3.7/site-packages (from matplotlib>=3.1.0->mmcls==0.24.1) (6.3.2)\n",
      "Requirement already satisfied: cycler>=0.10 in /environment/miniconda3/lib/python3.7/site-packages (from matplotlib>=3.1.0->mmcls==0.24.1) (0.11.0)\n",
      "Requirement already satisfied: six>=1.5 in /environment/miniconda3/lib/python3.7/site-packages (from python-dateutil>=2.7->matplotlib>=3.1.0->mmcls==0.24.1) (1.16.0)\n",
      "Requirement already satisfied: setuptools in /environment/miniconda3/lib/python3.7/site-packages (from setuptools-scm>=4->matplotlib>=3.1.0->mmcls==0.24.1) (52.0.0.post20210125)\n",
      "Requirement already satisfied: tomli>=1.0.0 in /environment/miniconda3/lib/python3.7/site-packages (from setuptools-scm>=4->matplotlib>=3.1.0->mmcls==0.24.1) (1.2.2)\n",
      "Installing collected packages: mmcls\n",
      "  Running setup.py develop for mmcls\n",
      "Successfully installed mmcls-0.24.1\n",
      "/home/featurize/work/MMDeploy教程-新/1027\n"
     ]
    }
   ],
   "source": [
    "%cd mmclassification\n",
    "!pip install -e .\n",
    "\n",
    "# 创建空文件夹\n",
    "os.mkdir('checkpoint')\n",
    "os.mkdir('output')\n",
    "os.mkdir('data')\n",
    "\n",
    "%cd .."
   ]
  },
  {
   "cell_type": "markdown",
   "id": "26297a4f-bf14-4dc0-9a10-a94a0ed094ed",
   "metadata": {},
   "source": [
    "## 安装MMDetection"
   ]
  },
  {
   "cell_type": "code",
   "execution_count": 8,
   "id": "f44e9bad-fadf-4d7f-94d6-f25e36f070e5",
   "metadata": {},
   "outputs": [],
   "source": [
    "# 删除原有的 mmdetection 目录（如有）\n",
    "!rm -rf mmdetection"
   ]
  },
  {
   "cell_type": "code",
   "execution_count": 9,
   "id": "53312f33-31c9-4e2b-ac8a-fb05d8f399ed",
   "metadata": {},
   "outputs": [
    {
     "name": "stdout",
     "output_type": "stream",
     "text": [
      "正克隆到 'mmdetection'...\n",
      "remote: Enumerating objects: 32267, done.\u001b[K\n",
      "remote: Counting objects: 100% (147/147), done.\u001b[K\n",
      "remote: Compressing objects: 100% (139/139), done.\u001b[K\n",
      "remote: Total 32267 (delta 43), reused 65 (delta 7), pack-reused 32120\u001b[K\n",
      "接收对象中: 100% (32267/32267), 41.79 MiB | 13.86 MiB/s, 完成.\n",
      "处理 delta 中: 100% (23194/23194), 完成.\n",
      "正在更新文件: 100% (1477/1477), 完成.\n"
     ]
    }
   ],
   "source": [
    "!git clone https://github.com/open-mmlab/mmdetection.git"
   ]
  },
  {
   "cell_type": "code",
   "execution_count": 10,
   "id": "8a4bff99-fa4f-4722-bc5c-bf480e8832ca",
   "metadata": {},
   "outputs": [
    {
     "name": "stdout",
     "output_type": "stream",
     "text": [
      "/home/featurize/work/MMDeploy教程-新/1027/mmdetection\n",
      "/home/featurize/work/MMDeploy教程-新/1027\n"
     ]
    }
   ],
   "source": [
    "%cd mmdetection\n",
    "!pip install -e . >> /dev/null\n",
    "\n",
    "# 创建空文件夹\n",
    "os.mkdir('checkpoint')\n",
    "os.mkdir('output')\n",
    "\n",
    "%cd .."
   ]
  },
  {
   "cell_type": "code",
   "execution_count": null,
   "id": "826190bf-611a-44e5-b9a0-bedf45a23073",
   "metadata": {},
   "outputs": [],
   "source": []
  }
 ],
 "metadata": {
  "kernelspec": {
   "display_name": "Python 3 (ipykernel)",
   "language": "python",
   "name": "python3"
  },
  "language_info": {
   "codemirror_mode": {
    "name": "ipython",
    "version": 3
   },
   "file_extension": ".py",
   "mimetype": "text/x-python",
   "name": "python",
   "nbconvert_exporter": "python",
   "pygments_lexer": "ipython3",
   "version": "3.7.10"
  }
 },
 "nbformat": 4,
 "nbformat_minor": 5
}
