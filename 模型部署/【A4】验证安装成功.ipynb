{
 "cells": [
  {
   "cell_type": "markdown",
   "id": "79a646ac-1e20-4d11-aa03-44b9a16d9577",
   "metadata": {},
   "source": [
    "> # 以下命令，均在命令行（Shell）中运行\n",
    "\n",
    "```shell\n",
    "\n",
    "python -c 'import mmdeploy'\n",
    "\n",
    "python -c 'from mmdeploy_python import Classifier, Detector'\n",
    "\n",
    "```"
   ]
  },
  {
   "cell_type": "code",
   "execution_count": null,
   "id": "8d42ef15-014a-457e-82ae-dca843ca91a0",
   "metadata": {},
   "outputs": [],
   "source": []
  }
 ],
 "metadata": {
  "kernelspec": {
   "display_name": "Python 3 (ipykernel)",
   "language": "python",
   "name": "python3"
  },
  "language_info": {
   "codemirror_mode": {
    "name": "ipython",
    "version": 3
   },
   "file_extension": ".py",
   "mimetype": "text/x-python",
   "name": "python",
   "nbconvert_exporter": "python",
   "pygments_lexer": "ipython3",
   "version": "3.7.10"
  }
 },
 "nbformat": 4,
 "nbformat_minor": 5
}
