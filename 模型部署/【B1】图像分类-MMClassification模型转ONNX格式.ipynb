{
 "cells": [
  {
   "cell_type": "markdown",
   "id": "3c385154-338f-4242-91a8-047b151090b1",
   "metadata": {},
   "source": [
    "# 图像分类-MMClassification模型转ONNX格式\n",
    "\n",
    "推荐代码运行[云GPU环境](https://featurize.cn?s=d7ce99f842414bfcaea5662a97581bd1)：GPU RTX 3060、CUDA v11.2\n",
    "\n",
    "OpenMMLab 主页：https://openmmlab.com/\n",
    "\n",
    "MMDeploy主页：https://github.com/open-mmlab/mmdeploy\n",
    "\n",
    "作者：同济子豪兄 2022-9-5"
   ]
  },
  {
   "cell_type": "markdown",
   "id": "10ccab5e-02a7-4c8e-8e0c-374a78c1b92a",
   "metadata": {},
   "source": [
    "## 进入 mmclassification 目录"
   ]
  },
  {
   "cell_type": "code",
   "execution_count": 1,
   "id": "bfe19262-966c-4564-8a9a-e0fa6622af41",
   "metadata": {},
   "outputs": [],
   "source": [
    "import os\n",
    "os.chdir('mmclassification')"
   ]
  },
  {
   "cell_type": "markdown",
   "id": "c0fb7a16-90f5-4029-a63b-57e90dbf2421",
   "metadata": {},
   "source": [
    "## 下载测试图片"
   ]
  },
  {
   "cell_type": "code",
   "execution_count": 2,
   "id": "9e915d5e-5ba9-437f-8d11-7f34dc1726ff",
   "metadata": {},
   "outputs": [
    {
     "name": "stdout",
     "output_type": "stream",
     "text": [
      "--2022-11-01 21:29:29--  https://zihao-openmmlab.obs.cn-east-3.myhuaweicloud.com/20220716-mmclassification/test/watermelon1.jpg\n",
      "正在连接 172.16.0.13:5848... 已连接。\n",
      "已发出 Proxy 请求，正在等待回应... 200 OK\n",
      "长度： 429666 (420K) [image/jpeg]\n",
      "正在保存至: “data/watermelon1.jpg”\n",
      "\n",
      "watermelon1.jpg     100%[===================>] 419.60K  2.01MB/s    用时 0.2s    \n",
      "\n",
      "2022-11-01 21:29:30 (2.01 MB/s) - 已保存 “data/watermelon1.jpg” [429666/429666])\n",
      "\n"
     ]
    }
   ],
   "source": [
    "!wget https://zihao-openmmlab.obs.cn-east-3.myhuaweicloud.com/20220716-mmclassification/test/watermelon1.jpg -P data\n"
   ]
  },
  {
   "cell_type": "markdown",
   "id": "c8199891-6bb3-43f0-b5b3-d62e99eac534",
   "metadata": {},
   "source": [
    "## 下载MMClassification训练好的模型config配置文件和权重文件"
   ]
  },
  {
   "cell_type": "code",
   "execution_count": 3,
   "id": "de0b07e0-e084-42e2-aae5-4a2358fc9dce",
   "metadata": {},
   "outputs": [
    {
     "name": "stdout",
     "output_type": "stream",
     "text": [
      "--2022-11-01 21:29:31--  https://zihao-openmmlab.obs.cn-east-3.myhuaweicloud.com/20220716-mmclassification/configs/mobilenet_v2_1x_fruit30.py\n",
      "正在连接 172.16.0.13:5848... 已连接。\n",
      "已发出 Proxy 请求，正在等待回应... 200 OK\n",
      "长度： 1766 (1.7K) [binary/octet-stream]\n",
      "正在保存至: “configs/mobilenet_v2/mobilenet_v2_1x_fruit30.py”\n",
      "\n",
      "mobilenet_v2_1x_fru 100%[===================>]   1.72K  --.-KB/s    用时 0s      \n",
      "\n",
      "2022-11-01 21:29:32 (29.9 MB/s) - 已保存 “configs/mobilenet_v2/mobilenet_v2_1x_fruit30.py” [1766/1766])\n",
      "\n",
      "--2022-11-01 21:29:32--  https://zihao-openmmlab.obs.cn-east-3.myhuaweicloud.com/20220716-mmclassification/checkpoints/fruit30_mmcls/fruit30_mmcls.pth\n",
      "正在连接 172.16.0.13:5848... 已连接。\n",
      "已发出 Proxy 请求，正在等待回应... 200 OK\n",
      "长度： 27493269 (26M) [binary/octet-stream]\n",
      "正在保存至: “checkpoint/fruit30_mmcls.pth”\n",
      "\n",
      "fruit30_mmcls.pth   100%[===================>]  26.22M  22.4MB/s    用时 1.2s    \n",
      "\n",
      "2022-11-01 21:29:33 (22.4 MB/s) - 已保存 “checkpoint/fruit30_mmcls.pth” [27493269/27493269])\n",
      "\n"
     ]
    }
   ],
   "source": [
    "!wget https://zihao-openmmlab.obs.cn-east-3.myhuaweicloud.com/20220716-mmclassification/configs/mobilenet_v2_1x_fruit30.py -P configs/mobilenet_v2\n",
    "\n",
    "!wget https://zihao-openmmlab.obs.cn-east-3.myhuaweicloud.com/20220716-mmclassification/checkpoints/fruit30_mmcls/fruit30_mmcls.pth -P checkpoint\n"
   ]
  },
  {
   "cell_type": "markdown",
   "id": "e3e42f16-1c79-4a9c-84c4-9718f188b75c",
   "metadata": {},
   "source": [
    "## 返回上一级目录"
   ]
  },
  {
   "cell_type": "code",
   "execution_count": 4,
   "id": "8ce005c5-cd8d-4960-9620-064def03cf41",
   "metadata": {},
   "outputs": [
    {
     "name": "stdout",
     "output_type": "stream",
     "text": [
      "/home/featurize/work/MMDeploy教程-新/1027\n"
     ]
    }
   ],
   "source": [
    "%cd .."
   ]
  },
  {
   "cell_type": "markdown",
   "id": "d594d0d3-4e76-4758-bba6-7546a6607554",
   "metadata": {},
   "source": [
    "## 模型转为ONNX格式"
   ]
  },
  {
   "cell_type": "code",
   "execution_count": 5,
   "id": "58e99f9b-23ab-4a92-ab8a-5788242d36e5",
   "metadata": {},
   "outputs": [
    {
     "name": "stdout",
     "output_type": "stream",
     "text": [
      "[2022-11-01 21:29:58.037] [mmdeploy] [\u001b[32minfo\u001b[m] [model.cpp:98] Register 'DirectoryModel'\n",
      "[2022-11-01 21:29:59.948] [mmdeploy] [\u001b[32minfo\u001b[m] [model.cpp:98] Register 'DirectoryModel'\n",
      "[2022-11-01 21:30:01.945] [mmdeploy] [\u001b[32minfo\u001b[m] [model.cpp:98] Register 'DirectoryModel'\n",
      "2022-11-01 21:30:01,951 - mmdeploy - INFO - Start pipeline mmdeploy.apis.pytorch2onnx.torch2onnx in subprocess\n",
      "load checkpoint from local path: mmclassification/checkpoint/fruit30_mmcls.pth\n",
      "2022-11-01 21:30:04,705 - mmdeploy - WARNING - DeprecationWarning: get_onnx_config will be deprecated in the future. \n",
      "2022-11-01 21:30:04,706 - mmdeploy - INFO - Export PyTorch model to ONNX: mmdeploy_models/mmcls/fruit30_mmcls/end2end.onnx.\n",
      "2022-11-01 21:30:07,113 - mmdeploy - INFO - Execute onnx optimize passes.\n",
      "2022-11-01 21:30:07,351 - mmdeploy - INFO - Finish pipeline mmdeploy.apis.pytorch2onnx.torch2onnx\n",
      "2022-11-01 21:30:07,975 - mmdeploy - INFO - visualize onnxruntime model start.\n",
      "[2022-11-01 21:30:09.828] [mmdeploy] [\u001b[32minfo\u001b[m] [model.cpp:98] Register 'DirectoryModel'\n",
      "2022-11-01 21:30:11,378 - mmdeploy - WARNING - Use generated class names, because             it failed to parse CLASSES from config: {'samples_per_gpu': 32, 'workers_per_gpu': 2, 'train': {'type': 'CustomDataset', 'data_prefix': 'fruit30_split/train', 'pipeline': [{'type': 'LoadImageFromFile'}, {'type': 'RandomResizedCrop', 'size': 224, 'backend': 'pillow'}, {'type': 'RandomFlip', 'flip_prob': 0.5, 'direction': 'horizontal'}, {'type': 'Normalize', 'mean': [123.675, 116.28, 103.53], 'std': [58.395, 57.12, 57.375], 'to_rgb': True}, {'type': 'ImageToTensor', 'keys': ['img']}, {'type': 'ToTensor', 'keys': ['gt_label']}, {'type': 'Collect', 'keys': ['img', 'gt_label']}], 'ann_file': None}, 'val': {'type': 'CustomDataset', 'data_prefix': 'fruit30_split/val', 'ann_file': None, 'pipeline': [{'type': 'LoadImageFromFile'}, {'type': 'Resize', 'size': (256, -1), 'backend': 'pillow'}, {'type': 'CenterCrop', 'crop_size': 224}, {'type': 'Normalize', 'mean': [123.675, 116.28, 103.53], 'std': [58.395, 57.12, 57.375], 'to_rgb': True}, {'type': 'ImageToTensor', 'keys': ['img']}, {'type': 'Collect', 'keys': ['img']}]}, 'test': {'type': 'CustomDataset', 'data_prefix': 'fruit30_split/val', 'ann_file': None, 'pipeline': [{'type': 'LoadImageFromFile'}, {'type': 'Resize', 'size': (256, -1), 'backend': 'pillow'}, {'type': 'CenterCrop', 'crop_size': 224}, {'type': 'Normalize', 'mean': [123.675, 116.28, 103.53], 'std': [58.395, 57.12, 57.375], 'to_rgb': True}, {'type': 'ImageToTensor', 'keys': ['img']}, {'type': 'Collect', 'keys': ['img']}]}}\n",
      "2022-11-01:21:30:11 - mmdeploy - WARNING - Use generated class names, because             it failed to parse CLASSES from config: {'samples_per_gpu': 32, 'workers_per_gpu': 2, 'train': {'type': 'CustomDataset', 'data_prefix': 'fruit30_split/train', 'pipeline': [{'type': 'LoadImageFromFile'}, {'type': 'RandomResizedCrop', 'size': 224, 'backend': 'pillow'}, {'type': 'RandomFlip', 'flip_prob': 0.5, 'direction': 'horizontal'}, {'type': 'Normalize', 'mean': [123.675, 116.28, 103.53], 'std': [58.395, 57.12, 57.375], 'to_rgb': True}, {'type': 'ImageToTensor', 'keys': ['img']}, {'type': 'ToTensor', 'keys': ['gt_label']}, {'type': 'Collect', 'keys': ['img', 'gt_label']}], 'ann_file': None}, 'val': {'type': 'CustomDataset', 'data_prefix': 'fruit30_split/val', 'ann_file': None, 'pipeline': [{'type': 'LoadImageFromFile'}, {'type': 'Resize', 'size': (256, -1), 'backend': 'pillow'}, {'type': 'CenterCrop', 'crop_size': 224}, {'type': 'Normalize', 'mean': [123.675, 116.28, 103.53], 'std': [58.395, 57.12, 57.375], 'to_rgb': True}, {'type': 'ImageToTensor', 'keys': ['img']}, {'type': 'Collect', 'keys': ['img']}]}, 'test': {'type': 'CustomDataset', 'data_prefix': 'fruit30_split/val', 'ann_file': None, 'pipeline': [{'type': 'LoadImageFromFile'}, {'type': 'Resize', 'size': (256, -1), 'backend': 'pillow'}, {'type': 'CenterCrop', 'crop_size': 224}, {'type': 'Normalize', 'mean': [123.675, 116.28, 103.53], 'std': [58.395, 57.12, 57.375], 'to_rgb': True}, {'type': 'ImageToTensor', 'keys': ['img']}, {'type': 'Collect', 'keys': ['img']}]}}\n",
      "2022-11-01 21:30:11,395 - mmdeploy - INFO - Successfully loaded onnxruntime custom ops from             /home/featurize/work/MMDeploy教程-新/1027/mmdeploy/mmdeploy/lib/libmmdeploy_onnxruntime_ops.so\n",
      "2022-11-01:21:30:11 - mmdeploy - INFO - Successfully loaded onnxruntime custom ops from             /home/featurize/work/MMDeploy教程-新/1027/mmdeploy/mmdeploy/lib/libmmdeploy_onnxruntime_ops.so\n",
      "2022-11-01 21:30:11,509 - mmdeploy - WARNING - render and display result skipped for headless device, exception no display name and no $DISPLAY environment variable\n",
      "2022-11-01:21:30:11 - mmdeploy - WARNING - render and display result skipped for headless device, exception no display name and no $DISPLAY environment variable\n",
      "2022-11-01 21:30:12,119 - mmdeploy - INFO - visualize onnxruntime model success.\n",
      "2022-11-01 21:30:12,120 - mmdeploy - INFO - visualize pytorch model start.\n",
      "[2022-11-01 21:30:13.924] [mmdeploy] [\u001b[32minfo\u001b[m] [model.cpp:98] Register 'DirectoryModel'\n",
      "load checkpoint from local path: mmclassification/checkpoint/fruit30_mmcls.pth\n",
      "2022-11-01 21:30:15,568 - mmdeploy - WARNING - render and display result skipped for headless device, exception no display name and no $DISPLAY environment variable\n",
      "2022-11-01:21:30:15 - mmdeploy - WARNING - render and display result skipped for headless device, exception no display name and no $DISPLAY environment variable\n",
      "2022-11-01 21:30:16,168 - mmdeploy - INFO - visualize pytorch model success.\n",
      "2022-11-01 21:30:16,168 - mmdeploy - INFO - All process success.\n"
     ]
    }
   ],
   "source": [
    "!python mmdeploy/tools/deploy.py \\\n",
    "        mmdeploy/configs/mmcls/classification_onnxruntime_dynamic.py \\\n",
    "        mmclassification/configs/mobilenet_v2/mobilenet_v2_1x_fruit30.py \\\n",
    "        mmclassification/checkpoint/fruit30_mmcls.pth \\\n",
    "        mmclassification/demo/demo.JPEG \\\n",
    "        --work-dir mmdeploy_models/mmcls/fruit30_mmcls \\\n",
    "        --device cpu \\\n",
    "        --dump-info\n"
   ]
  },
  {
   "cell_type": "code",
   "execution_count": null,
   "id": "5c8e4190-68e7-4903-9ba4-13ceeff8c245",
   "metadata": {},
   "outputs": [],
   "source": []
  }
 ],
 "metadata": {
  "kernelspec": {
   "display_name": "Python 3 (ipykernel)",
   "language": "python",
   "name": "python3"
  },
  "language_info": {
   "codemirror_mode": {
    "name": "ipython",
    "version": 3
   },
   "file_extension": ".py",
   "mimetype": "text/x-python",
   "name": "python",
   "nbconvert_exporter": "python",
   "pygments_lexer": "ipython3",
   "version": "3.7.10"
  }
 },
 "nbformat": 4,
 "nbformat_minor": 5
}
