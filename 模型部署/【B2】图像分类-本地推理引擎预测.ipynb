{
 "cells": [
  {
   "cell_type": "markdown",
   "id": "29a95b30-f923-455d-af71-e21109836930",
   "metadata": {},
   "source": [
    "# 图像分类-本地推理引擎预测\n",
    "\n",
    "调用MMDeploy的SDK，在本地执行推理预测。\n",
    "\n",
    "推荐代码运行[云GPU环境](https://featurize.cn?s=d7ce99f842414bfcaea5662a97581bd1)：GPU RTX 3060、CUDA v11.2\n",
    "\n",
    "同济子豪兄 2022-11-1"
   ]
  },
  {
   "cell_type": "markdown",
   "id": "5160908c-7d18-4784-a7da-2fcbdb85e088",
   "metadata": {
    "tags": []
   },
   "source": [
    "## 预测方式一：在命令行shell中运行\n",
    "\n",
    "```shell\n",
    "python\n",
    "```\n",
    "\n",
    "```python\n",
    "import cv2\n",
    "from mmdeploy_python import Classifier\n",
    "img = cv2.imread('mmclassification/data/watermelon1.jpg')\n",
    "onnx_path = 'mmdeploy_models/mmcls/fruit30_mmcls'\n",
    "classifier = Classifier(onnx_path, 'cpu')\n",
    "result = classifier(img)\n",
    "```"
   ]
  },
  {
   "cell_type": "markdown",
   "id": "1aba41df-dffd-470a-93f0-daadab6eaf00",
   "metadata": {},
   "source": [
    "## result输出结果\n",
    "\n",
    "[(25, 1.0), (14, 1.0857699461741532e-10), (18, 3.2185827354008767e-12)]\n",
    "\n",
    "25号类别：西瓜"
   ]
  },
  {
   "cell_type": "markdown",
   "id": "017635eb-ba85-4f1d-8112-c5b154f9db3b",
   "metadata": {},
   "source": [
    "`result`为topk预测类别及置信度。\n",
    "\n",
    "topk由MMClassification训练时的config指定。\n",
    "\n",
    "如果要修改topk，可修改`mmdeploy_models/mmcls/fruit30_mmcls/pipeline.json`中的`\"topk\": 3`"
   ]
  },
  {
   "cell_type": "markdown",
   "id": "9361688b-2af7-4b7a-a3dd-27321a690eef",
   "metadata": {},
   "source": [
    "## 预测方式二：直接运行命令行预测脚本\n",
    "\n",
    "```shell\n",
    "SPDLOG_LEVEL=error python mmdeploy/demo/python/image_classification.py cpu mmdeploy_models/mmcls/fruit30_mmcls mmclassification/data/watermelon1.jpg\n",
    "```"
   ]
  },
  {
   "cell_type": "code",
   "execution_count": null,
   "id": "fd9e6279-ae2a-44af-8902-b65ef6fccee1",
   "metadata": {},
   "outputs": [],
   "source": []
  }
 ],
 "metadata": {
  "kernelspec": {
   "display_name": "Python 3 (ipykernel)",
   "language": "python",
   "name": "python3"
  },
  "language_info": {
   "codemirror_mode": {
    "name": "ipython",
    "version": 3
   },
   "file_extension": ".py",
   "mimetype": "text/x-python",
   "name": "python",
   "nbconvert_exporter": "python",
   "pygments_lexer": "ipython3",
   "version": "3.7.10"
  }
 },
 "nbformat": 4,
 "nbformat_minor": 5
}
