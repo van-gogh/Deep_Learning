{
 "cells": [
  {
   "cell_type": "markdown",
   "id": "d3893e6f-9045-4338-a632-11fdfcc06f99",
   "metadata": {},
   "source": [
    "# 目标检测-本地推理引擎预测\n",
    "\n",
    "调用MMDeploy的SDK，在本地执行推理预测。\n",
    "\n",
    "推荐代码运行[云GPU环境](https://featurize.cn?s=d7ce99f842414bfcaea5662a97581bd1)：GPU RTX 3060、CUDA v11.2\n",
    "\n",
    "同济子豪兄 2022-11-1"
   ]
  },
  {
   "cell_type": "markdown",
   "id": "5160908c-7d18-4784-a7da-2fcbdb85e088",
   "metadata": {
    "tags": []
   },
   "source": [
    "## 预测方式一：在命令行shell中运行\n",
    "\n",
    "```shell\n",
    "python\n",
    "```\n",
    "\n",
    "```python\n",
    "import cv2\n",
    "from mmdeploy_python import Detector\n",
    "img = cv2.imread('mmdetection/demo/demo.jpg')\n",
    "onnx_path = 'mmdeploy_models/mmdetection/yolox'\n",
    "detector = Detector(onnx_path, 'cpu')\n",
    "result = detector(img)\n",
    "```"
   ]
  },
  {
   "cell_type": "markdown",
   "id": "9361688b-2af7-4b7a-a3dd-27321a690eef",
   "metadata": {},
   "source": [
    "## 预测方式二：直接运行命令行预测脚本\n",
    "\n",
    "```shell\n",
    "SPDLOG_LEVEL=error python mmdeploy/demo/python/object_detection.py cpu mmdeploy_models/mmdetection/yolox mmdetection/demo/demo.jpg\n",
    "```\n",
    "\n",
    "运行成功后，在本地会生成`output_detection.png`目标检测预测结果图像文件。"
   ]
  },
  {
   "cell_type": "code",
   "execution_count": null,
   "id": "8f8c4e4d-33a3-48a0-9d5b-f47dcb95a808",
   "metadata": {},
   "outputs": [],
   "source": []
  }
 ],
 "metadata": {
  "kernelspec": {
   "display_name": "Python 3 (ipykernel)",
   "language": "python",
   "name": "python3"
  },
  "language_info": {
   "codemirror_mode": {
    "name": "ipython",
    "version": 3
   },
   "file_extension": ".py",
   "mimetype": "text/x-python",
   "name": "python",
   "nbconvert_exporter": "python",
   "pygments_lexer": "ipython3",
   "version": "3.7.10"
  }
 },
 "nbformat": 4,
 "nbformat_minor": 5
}
