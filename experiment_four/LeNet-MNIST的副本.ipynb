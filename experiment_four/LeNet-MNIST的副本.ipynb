{
 "cells": [
  {
   "cell_type": "code",
   "execution_count": 1,
   "metadata": {
    "ExecuteTime": {
     "end_time": "2023-04-27T14:34:37.229819Z",
     "start_time": "2023-04-27T14:34:37.225001Z"
    }
   },
   "outputs": [],
   "source": [
    "import torch\n",
    "import torch.nn as nn\n",
    "import torch.optim as optim\n",
    "import torchvision.transforms as transforms\n",
    "from torchvision.datasets import MNIST\n",
    "from torch.utils.data import DataLoader\n",
    "import matplotlib.pyplot as plt\n",
    "import numpy as np"
   ]
  },
  {
   "cell_type": "code",
   "execution_count": 2,
   "metadata": {
    "ExecuteTime": {
     "end_time": "2023-04-27T14:34:39.028147Z",
     "start_time": "2023-04-27T14:34:39.015954Z"
    }
   },
   "outputs": [],
   "source": [
    "#定义数据预处理\n",
    "transform = transforms.Compose(\n",
    "    [transforms.ToTensor(),\n",
    "     transforms.Resize([32, 32]),\n",
    "     #将原始输入数据resize为32*32\n",
    "     transforms.Normalize((0.1307,), (0.3081,))]\n",
    ")"
   ]
  },
  {
   "cell_type": "code",
   "execution_count": 3,
   "metadata": {
    "ExecuteTime": {
     "end_time": "2023-04-27T14:34:39.983568Z",
     "start_time": "2023-04-27T14:34:39.828536Z"
    }
   },
   "outputs": [
    {
     "name": "stdout",
     "output_type": "stream",
     "text": [
      "Downloading http://yann.lecun.com/exdb/mnist/train-images-idx3-ubyte.gz\n"
     ]
    },
    {
     "name": "stderr",
     "output_type": "stream",
     "text": [
      "0.3%"
     ]
    },
    {
     "name": "stdout",
     "output_type": "stream",
     "text": [
      "Downloading http://yann.lecun.com/exdb/mnist/train-images-idx3-ubyte.gz to /Users/vangogh/PythonProject/Deeplearning/experiment_four/MNIST/raw/train-images-idx3-ubyte.gz\n"
     ]
    },
    {
     "name": "stderr",
     "output_type": "stream",
     "text": [
      "100.0%\n"
     ]
    },
    {
     "name": "stdout",
     "output_type": "stream",
     "text": [
      "Extracting /Users/vangogh/PythonProject/Deeplearning/experiment_four/MNIST/raw/train-images-idx3-ubyte.gz to /Users/vangogh/PythonProject/Deeplearning/experiment_four/MNIST/raw\n",
      "\n",
      "Downloading http://yann.lecun.com/exdb/mnist/train-labels-idx1-ubyte.gz\n",
      "Downloading http://yann.lecun.com/exdb/mnist/train-labels-idx1-ubyte.gz to /Users/vangogh/PythonProject/Deeplearning/experiment_four/MNIST/raw/train-labels-idx1-ubyte.gz\n"
     ]
    },
    {
     "name": "stderr",
     "output_type": "stream",
     "text": [
      "100.0%\n"
     ]
    },
    {
     "name": "stdout",
     "output_type": "stream",
     "text": [
      "Extracting /Users/vangogh/PythonProject/Deeplearning/experiment_four/MNIST/raw/train-labels-idx1-ubyte.gz to /Users/vangogh/PythonProject/Deeplearning/experiment_four/MNIST/raw\n",
      "\n",
      "Downloading http://yann.lecun.com/exdb/mnist/t10k-images-idx3-ubyte.gz\n"
     ]
    },
    {
     "name": "stderr",
     "output_type": "stream",
     "text": [
      "2.0%"
     ]
    },
    {
     "name": "stdout",
     "output_type": "stream",
     "text": [
      "Downloading http://yann.lecun.com/exdb/mnist/t10k-images-idx3-ubyte.gz to /Users/vangogh/PythonProject/Deeplearning/experiment_four/MNIST/raw/t10k-images-idx3-ubyte.gz\n"
     ]
    },
    {
     "name": "stderr",
     "output_type": "stream",
     "text": [
      "100.0%\n"
     ]
    },
    {
     "name": "stdout",
     "output_type": "stream",
     "text": [
      "Extracting /Users/vangogh/PythonProject/Deeplearning/experiment_four/MNIST/raw/t10k-images-idx3-ubyte.gz to /Users/vangogh/PythonProject/Deeplearning/experiment_four/MNIST/raw\n",
      "\n",
      "Downloading http://yann.lecun.com/exdb/mnist/t10k-labels-idx1-ubyte.gz\n"
     ]
    },
    {
     "name": "stderr",
     "output_type": "stream",
     "text": [
      "100.0%"
     ]
    },
    {
     "name": "stdout",
     "output_type": "stream",
     "text": [
      "Downloading http://yann.lecun.com/exdb/mnist/t10k-labels-idx1-ubyte.gz to /Users/vangogh/PythonProject/Deeplearning/experiment_four/MNIST/raw/t10k-labels-idx1-ubyte.gz\n",
      "Extracting /Users/vangogh/PythonProject/Deeplearning/experiment_four/MNIST/raw/t10k-labels-idx1-ubyte.gz to /Users/vangogh/PythonProject/Deeplearning/experiment_four/MNIST/raw\n",
      "\n"
     ]
    },
    {
     "name": "stderr",
     "output_type": "stream",
     "text": [
      "\n"
     ]
    }
   ],
   "source": [
    "data_dir = '/Users/vangogh/PythonProject/Deeplearning/experiment_four'\n",
    "#加载数据集\n",
    "trainset = MNIST(root=data_dir, train = True,download=True, transform = transform)\n",
    "testset = MNIST(root=data_dir, train = False, download=True, transform = transform)\n",
    "#定义数据加载器\n",
    "trainloader = DataLoader(trainset, batch_size = 64, shuffle = True, num_workers=2)\n",
    "testloader = DataLoader(testset, batch_size=64, shuffle=False, num_workers=2)"
   ]
  },
  {
   "cell_type": "code",
   "execution_count": null,
   "metadata": {
    "ExecuteTime": {
     "end_time": "2023-04-27T14:43:29.781043Z",
     "start_time": "2023-04-27T14:43:29.768849Z"
    }
   },
   "outputs": [],
   "source": [
    "#定义LeNet模型\n",
    "class LeNet(nn.Module):\n",
    "    def __init__(self):\n",
    "        super(LeNet, self).__init__()\n",
    "        self.conv1 = nn.Conv2d(1, 6, kernel_size=5, stride=1)\n",
    "        self.pool1 = nn.AvgPool2(kernel_size=2, stride=2)\n",
    "        self.conv2 = nn.Conv2d(6, 16, kernel_size=5, stride=1)\n",
    "        self.pool2 = nn.AvgPool2d(kernel_size=2, stride=2)\n",
    "        self.fc1 = nn.Linear(16 * 5 * 5, 120)\n",
    "        self.fc2 = nn.Linear(120, 84)\n",
    "        self.fc3 = nn.Linear(84, 10)\n",
    "        \n",
    "    def forward(self, x):\n",
    "        x = torch.relu(self.conv1(x))\n",
    "        x = self.pool1(x)\n",
    "        x = torch.relu(self.conv2(x))\n",
    "        x = self.pool2(x)\n",
    "        x = x.view(-1, 16 * 5 * 5)\n",
    "        x = torch.relu(self.fc1(x))\n",
    "        x = torch.relu(self.fc2(x))\n",
    "        x = self.fc3(x)\n",
    "        return x\n",
    "        "
   ]
  },
  {
   "cell_type": "code",
   "execution_count": null,
   "metadata": {
    "ExecuteTime": {
     "end_time": "2023-04-27T14:43:31.972846Z",
     "start_time": "2023-04-27T14:43:31.945384Z"
    }
   },
   "outputs": [],
   "source": [
    "# 初始化模型和优化器\n",
    "model = LeNet()\n",
    "criterion = nn.CrossEntropyLoss()\n",
    "optimizer = optim.Adam(model.parameters(), lr = 0.001) # 使用Adam优化器"
   ]
  },
  {
   "cell_type": "code",
   "execution_count": null,
   "metadata": {
    "ExecuteTime": {
     "end_time": "2023-04-27T14:43:33.715185Z",
     "start_time": "2023-04-27T14:43:33.688312Z"
    }
   },
   "outputs": [],
   "source": [
    "model"
   ]
  },
  {
   "cell_type": "code",
   "execution_count": null,
   "metadata": {
    "ExecuteTime": {
     "end_time": "2023-04-26T15:16:51.667890Z",
     "start_time": "2023-04-26T15:10:47.988287Z"
    }
   },
   "outputs": [],
   "source": [
    "# training model\n",
    "losses = [] # record train loss\n",
    "accuracy = [] # record precision\n",
    "test_losses = [] # record test loss\n",
    "test_accuracy = [] # record test precision\n",
    "num_epochs = 10\n",
    "\n",
    "for epoch in range(num_epochs):\n",
    "    training_loss = 0.0\n",
    "    training_corrects = 0.0\n",
    "    testing_loss = 0.0\n",
    "    testing_corrects = 0.0\n",
    "\n",
    "    # train\n",
    "    for i, (inputs, labels) in enumerate(trainloader):\n",
    "        optimizer.zero_grad()\n",
    "        outputs = model(inputs)\n",
    "        loss = criterion(outputs, labels)\n",
    "        _, predicted = torch.max(outputs, 1)\n",
    "        loss.backward()\n",
    "        optimizer.step()\n",
    "        training_loss += loss.item() * inputs.size(0)\n",
    "        training_corrects += torch.sum(predicted == labels.data)\n",
    "\n",
    "    # test\n",
    "    # There is no need to turn on automatic derivation and backpropagation when testing\n",
    "    with torch.no_grad():\n",
    "        # 将模型转换为评估模式，在该模模式下不会影响到训练\n",
    "        model.eval()\n",
    "        for i, (inputs, labels) in enumerate(testloader):\n",
    "            outputs = model(inputs)\n",
    "            loss = criterion(outputs, labels)\n",
    "            _, predicted = torch.max(outputs, 1)\n",
    "            testing_loss += loss.item() * inputs.size(0)\n",
    "            testing_corrects += torch.sum(predicted == labels.data)\n",
    "\n",
    "    model.train()\n",
    "    training_loss = training_loss / len(trainset)\n",
    "    training_corrects = training_corrects / len(trainset)\n",
    "    testing_loss = testing_loss / len(testset)\n",
    "    testing_corrects = testing_corrects / len(testset)\n",
    "    losses.append(training_loss)\n",
    "    accuracy.append(training_corrects)\n",
    "    test_losses.append(testing_loss)\n",
    "    test_accuracy.append(testing_corrects)\n",
    "    print(\"epochs: {}/{}:\\n\".format(epoch+1, num_epochs),\n",
    "          \"Train_loss: {:.3f}\".format(training_loss),\n",
    "          \"Test_loss: {:.3f}\".format(testing_loss),\n",
    "          \"Train_acc: {:.3f}\".format(training_corrects),\n",
    "          \"Test_acc: {:.3f}\".format(testing_corrects))\n",
    "\n"
   ]
  },
  {
   "cell_type": "code",
   "execution_count": null,
   "metadata": {
    "ExecuteTime": {
     "end_time": "2023-04-26T15:18:05.595910Z",
     "start_time": "2023-04-26T15:18:05.016945Z"
    }
   },
   "outputs": [],
   "source": [
    "# # 将GPU tensor 转为cpu tensor\n",
    "# for i in range(len(accuracy)):\n",
    "#     accuracy[i] = accuracy[i].cpu()\n",
    "# for i in range(len(test_accuracys)):\n",
    "#     test_accuracys[i] = test_accuracys[i].cpu()\n",
    "\n",
    "# loss chart\n",
    "plt.subplot(1, 2, 1)\n",
    "plt.plot(losses, label = 'Training loss')\n",
    "plt.plot(test_losses, label = 'Testing loss')\n",
    "plt.xlabel('Epoch')\n",
    "plt.ylabel('Loss')\n",
    "plt.title('Loss')\n",
    "plt.legend()\n",
    "\n",
    "# precision chart\n",
    "plt.subplot(1, 2, 2)\n",
    "plt.plot(accuracy, label = 'Training Accuracy')\n",
    "plt.plot(test_accuracy, label = 'Testing Accuracy')\n",
    "plt.xlabel('Epoch')\n",
    "plt.ylabel('Accuracy')\n",
    "plt.title('Accuracy')\n",
    "plt.legend()\n",
    "plt.show()"
   ]
  },
  {
   "cell_type": "code",
   "execution_count": null,
   "metadata": {},
   "outputs": [],
   "source": []
  }
 ],
 "metadata": {
  "kernelspec": {
   "display_name": "Python 3 (ipykernel)",
   "language": "python",
   "name": "python3"
  },
  "language_info": {
   "codemirror_mode": {
    "name": "ipython",
    "version": 3
   },
   "file_extension": ".py",
   "mimetype": "text/x-python",
   "name": "python",
   "nbconvert_exporter": "python",
   "pygments_lexer": "ipython3",
   "version": "3.9.16"
  }
 },
 "nbformat": 4,
 "nbformat_minor": 1
}
