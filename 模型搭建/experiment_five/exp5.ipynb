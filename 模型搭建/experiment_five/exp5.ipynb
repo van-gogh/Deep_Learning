{
 "cells": [
  {
   "cell_type": "code",
   "execution_count": 1,
   "metadata": {
    "ExecuteTime": {
     "end_time": "2023-05-10T08:50:53.308550Z",
     "start_time": "2023-05-10T08:50:48.224451Z"
    },
    "id": "pSQKsAOl6v8P"
   },
   "outputs": [],
   "source": [
    "import torch # 导入pytorch\n",
    "from torch import nn, optim # 导入神经网络与优化器对应的类\n",
    "import torch.nn.functional as F\n",
    "from torchvision import datasets, transforms "
   ]
  },
  {
   "cell_type": "code",
   "execution_count": 3,
   "metadata": {
    "ExecuteTime": {
     "end_time": "2023-05-10T08:50:53.311163Z",
     "start_time": "2023-05-10T08:50:53.242346Z"
    },
    "id": "G7jQfjYR6v8T"
   },
   "outputs": [],
   "source": [
    "data_dir = '/content/drive/MyDrive/Colab Notebooks/AlexNet'"
   ]
  },
  {
   "cell_type": "code",
   "execution_count": 4,
   "metadata": {
    "ExecuteTime": {
     "end_time": "2023-05-10T08:50:53.311840Z",
     "start_time": "2023-05-10T08:50:53.251964Z"
    },
    "id": "_ZjnROQa6v8T"
   },
   "outputs": [],
   "source": [
    "transform = transforms.Compose([\n",
    "transforms.ToTensor(),\n",
    "transforms.Resize((224, 224)),\n",
    "transforms.Normalize((0.5,), (0.5,))\n",
    "])"
   ]
  },
  {
   "cell_type": "code",
   "execution_count": 5,
   "metadata": {
    "ExecuteTime": {
     "end_time": "2023-05-10T08:50:53.513228Z",
     "start_time": "2023-05-10T08:50:53.277844Z"
    },
    "id": "MXTeWvJy6v8U"
   },
   "outputs": [],
   "source": [
    "batch_size=64\n",
    "trainset = datasets.FashionMNIST(root=data_dir, download=True,train=True, transform=transform)\n",
    "trainloader = torch.utils.data.DataLoader(trainset,batch_size=batch_size, shuffle=True)\n",
    "\n",
    "\n",
    "testset = datasets.FashionMNIST(root=data_dir, download=True,train=False, transform=transform)\n",
    "testloader = torch.utils.data.DataLoader(testset,batch_size=64, shuffle=True)"
   ]
  },
  {
   "cell_type": "code",
   "execution_count": 6,
   "metadata": {
    "ExecuteTime": {
     "end_time": "2023-05-10T08:50:53.528781Z",
     "start_time": "2023-05-10T08:50:53.519193Z"
    },
    "id": "VWVAYOjV6v8U"
   },
   "outputs": [],
   "source": [
    "class AlexNet(nn.Module):\n",
    "    def __init__(self, num_classes=10):\n",
    "        super(AlexNet, self).__init__()\n",
    "        self.features = nn.Sequential(\n",
    "            nn.Conv2d(1, 64, kernel_size=11, stride=4,padding=2),\n",
    "            nn.ReLU(inplace=True),\n",
    "            nn.MaxPool2d(kernel_size=3, stride=2),\n",
    "            nn.Conv2d(64, 192, kernel_size=5, padding=2),\n",
    "            nn.ReLU(inplace=True),\n",
    "            nn.MaxPool2d(kernel_size=3, stride=2),\n",
    "            nn.Conv2d(192, 384, kernel_size=3, padding=1),\n",
    "            nn.ReLU(inplace=True),\n",
    "            nn.Conv2d(384, 256, kernel_size=3, padding=1),\n",
    "            nn.ReLU(inplace=True),\n",
    "            nn.Conv2d(256, 256, kernel_size=3, padding=1),\n",
    "            nn.ReLU(inplace=True),\n",
    "            nn.MaxPool2d(kernel_size=3, stride=2)\n",
    "        )\n",
    "        self.avgpool = nn.AdaptiveAvgPool2d((6, 6))\n",
    "        self.classifier = nn.Sequential(\n",
    "            nn.Dropout(),\n",
    "            nn.Linear(256 * 6 * 6, 4096),\n",
    "            nn.ReLU(inplace=True),\n",
    "            nn.Dropout(),\n",
    "            nn.Linear(4096, 4096),\n",
    "            nn.ReLU(inplace=True),\n",
    "            nn.Linear(4096, num_classes)\n",
    "        )\n",
    "    def forward(self, x):\n",
    "        x = self.features(x)\n",
    "        x = self.avgpool(x)\n",
    "        x = torch.flatten(x, 1)\n",
    "        x = self.classifier(x)\n",
    "        return x"
   ]
  },
  {
   "cell_type": "code",
   "execution_count": 7,
   "metadata": {
    "ExecuteTime": {
     "end_time": "2023-05-10T08:50:54.575401Z",
     "start_time": "2023-05-10T08:50:53.529804Z"
    },
    "id": "EBGRIvgH6v8V"
   },
   "outputs": [],
   "source": [
    "model = AlexNet()"
   ]
  },
  {
   "cell_type": "code",
   "execution_count": 8,
   "metadata": {
    "ExecuteTime": {
     "end_time": "2023-05-10T08:50:54.614019Z",
     "start_time": "2023-05-10T08:50:54.576253Z"
    },
    "colab": {
     "base_uri": "https://localhost:8080/",
     "height": 0
    },
    "id": "HaiXHKU06v8W",
    "outputId": "7b9d9cd3-a0d0-4183-e34a-5caaffca1e14"
   },
   "outputs": [
    {
     "output_type": "execute_result",
     "data": {
      "text/plain": [
       "AlexNet(\n",
       "  (features): Sequential(\n",
       "    (0): Conv2d(1, 64, kernel_size=(11, 11), stride=(4, 4), padding=(2, 2))\n",
       "    (1): ReLU(inplace=True)\n",
       "    (2): MaxPool2d(kernel_size=3, stride=2, padding=0, dilation=1, ceil_mode=False)\n",
       "    (3): Conv2d(64, 192, kernel_size=(5, 5), stride=(1, 1), padding=(2, 2))\n",
       "    (4): ReLU(inplace=True)\n",
       "    (5): MaxPool2d(kernel_size=3, stride=2, padding=0, dilation=1, ceil_mode=False)\n",
       "    (6): Conv2d(192, 384, kernel_size=(3, 3), stride=(1, 1), padding=(1, 1))\n",
       "    (7): ReLU(inplace=True)\n",
       "    (8): Conv2d(384, 256, kernel_size=(3, 3), stride=(1, 1), padding=(1, 1))\n",
       "    (9): ReLU(inplace=True)\n",
       "    (10): Conv2d(256, 256, kernel_size=(3, 3), stride=(1, 1), padding=(1, 1))\n",
       "    (11): ReLU(inplace=True)\n",
       "    (12): MaxPool2d(kernel_size=3, stride=2, padding=0, dilation=1, ceil_mode=False)\n",
       "  )\n",
       "  (avgpool): AdaptiveAvgPool2d(output_size=(6, 6))\n",
       "  (classifier): Sequential(\n",
       "    (0): Dropout(p=0.5, inplace=False)\n",
       "    (1): Linear(in_features=9216, out_features=4096, bias=True)\n",
       "    (2): ReLU(inplace=True)\n",
       "    (3): Dropout(p=0.5, inplace=False)\n",
       "    (4): Linear(in_features=4096, out_features=4096, bias=True)\n",
       "    (5): ReLU(inplace=True)\n",
       "    (6): Linear(in_features=4096, out_features=10, bias=True)\n",
       "  )\n",
       ")"
      ]
     },
     "metadata": {},
     "execution_count": 8
    }
   ],
   "source": [
    "model"
   ]
  },
  {
   "cell_type": "code",
   "execution_count": 9,
   "metadata": {
    "ExecuteTime": {
     "end_time": "2023-05-10T08:50:55.304049Z",
     "start_time": "2023-05-10T08:50:54.612949Z"
    },
    "id": "XL_OYeef6v8X"
   },
   "outputs": [],
   "source": [
    "import time\n",
    "model = AlexNet()\n",
    "def training(trainloader, testloader, lr, epochs):\n",
    "  model.to('cuda') #如果不是gpu版本的pytorch，将这行注释掉\n",
    "  # 定义损失函数为交叉熵\n",
    "  criterion = nn.CrossEntropyLoss()\n",
    "  # 优化方法为SDG，学习率为0.003\n",
    "  optimizer = optim.SGD(model.parameters(), lr=lr)\n",
    "  # 将每次训练的训练误差和测试误差存储在这两个列表里，后面绘制误差变化折线图用\n",
    "  train_losses, test_losses = [], []\n",
    "  start_time = time.time()\n",
    "  print(\"------------训练开始:lr={}, epochs={}---------\".format(lr, epochs))\n",
    "  for e in range(epochs):\n",
    "    running_loss = 0\n",
    "  # 对训练集中的所有图片都过一遍\n",
    "    for images, labels in trainloader:\n",
    "      images = images.cuda() #如果不是gpu版本的pytorch,将这行注释掉\n",
    "      labels = labels.cuda() #如果不是gpu版本的pytorch,将这行注释掉\n",
    "      # 将优化器中的求导结果都设为0，否则会在每次反向传播之后叠加之前的\n",
    "      optimizer.zero_grad()\n",
    "      #对64张图片进行推断，计算损失函数，反向传播优化权重，将损失求和\n",
    "      log_ps = model(images)\n",
    "      loss = criterion(log_ps, labels)\n",
    "      loss.backward()\n",
    "      optimizer.step()\n",
    "      running_loss += loss.item()\n",
    "  # 每次学完一遍数据集，都进行以下测试操作\n",
    "    else:\n",
    "      test_loss = 0\n",
    "      accuracy = 0\n",
    "  # 测试的时候不需要开自动求导和反向传播\n",
    "      with torch.no_grad():\n",
    "  # 将模型转换为评估模式，在该模式下不会影响到训练\n",
    "        model.eval()\n",
    "  # 对测试集中的所有图片都过一遍\n",
    "        for images, labels in testloader:\n",
    "          images = images.cuda() #如果不是gpu版本的pytorch，将这行注释掉\n",
    "          labels = labels.cuda() #如果不是gpu版本的pytorch，将这行注释掉\n",
    "          # 对传入的测试集图片进行正向推断、计算损失，accuracy为测试集一万张图片中模型预测正确率\n",
    "          log_ps = model(images)\n",
    "          test_loss += criterion(log_ps, labels)\n",
    "          '''这里代码有疑问'''\n",
    "          ps = torch.exp(log_ps)\n",
    "          top_p, top_class = ps.topk(1, dim=1)\n",
    "          equals = top_class ==labels.view(*top_class.shape)\n",
    "          # 等号右边为每一批64张测试图片中预测正确的占比\n",
    "          accuracy +=torch.mean(equals.type(torch.FloatTensor))\n",
    "          '''这里代码有疑问'''\n",
    "        # 恢复Dropout\n",
    "        model.train()\n",
    "        # 将训练误差和测试误差存在两个列表里，后面绘制误差变化折线图用\n",
    "        train_losses.append(running_loss/len(trainloader))\n",
    "        test_losses.append(test_loss/len(testloader))\n",
    "        info = \"训练集学习次数: {}/{}.. \".format(e+1,epochs),\"训练误差: {:.3f}..\".format(running_loss/len(trainloader)),\\\n",
    "        \"测试误差: {:.3f}..\".format(test_loss/len(testloader)),\"模型分类准确率:{:.3f}\".format(accuracy/len(testloader))\n",
    "        print(info)\n",
    "  end_time = time.time()\n",
    "  run_time = end_time - start_time\n",
    "  return [lr, epochs, train_losses, test_losses, run_time]"
   ]
  },
  {
   "cell_type": "code",
   "execution_count": 10,
   "metadata": {
    "colab": {
     "base_uri": "https://localhost:8080/",
     "height": 0
    },
    "id": "B0i7KPVr6v8Y",
    "outputId": "23ccec9a-798d-41e2-ec8a-9126a50f4de1"
   },
   "outputs": [
    {
     "output_type": "stream",
     "name": "stdout",
     "text": [
      "------------训练开始:lr=0.003, epochs=15---------\n"
     ]
    },
    {
     "output_type": "stream",
     "name": "stderr",
     "text": [
      "/usr/local/lib/python3.10/dist-packages/torchvision/transforms/functional.py:1603: UserWarning: The default value of the antialias parameter of all the resizing transforms (Resize(), RandomResizedCrop(), etc.) will change from None to True in v0.17, in order to be consistent across the PIL and Tensor backends. To suppress this warning, directly pass antialias=True (recommended, future default), antialias=None (current default, which means False for Tensors and True for PIL), or antialias=False (only works on Tensors - PIL will still use antialiasing). This also applies if you are using the inference transforms from the models weights: update the call to weights.transforms(antialias=True).\n",
      "  warnings.warn(\n"
     ]
    },
    {
     "output_type": "stream",
     "name": "stdout",
     "text": [
      "('训练集学习次数: 1/15.. ', '训练误差: 2.302..', '测试误差: 2.301..', '模型分类准确率:0.100')\n",
      "('训练集学习次数: 2/15.. ', '训练误差: 2.299..', '测试误差: 2.293..', '模型分类准确率:0.147')\n",
      "('训练集学习次数: 3/15.. ', '训练误差: 2.091..', '测试误差: 1.182..', '模型分类准确率:0.555')\n",
      "('训练集学习次数: 4/15.. ', '训练误差: 0.924..', '测试误差: 0.807..', '模型分类准确率:0.706')\n",
      "('训练集学习次数: 5/15.. ', '训练误差: 0.727..', '测试误差: 0.746..', '模型分类准确率:0.744')\n",
      "('训练集学习次数: 6/15.. ', '训练误差: 0.648..', '测试误差: 0.625..', '模型分类准确率:0.764')\n",
      "('训练集学习次数: 7/15.. ', '训练误差: 0.593..', '测试误差: 0.586..', '模型分类准确率:0.783')\n",
      "('训练集学习次数: 8/15.. ', '训练误差: 0.554..', '测试误差: 0.533..', '模型分类准确率:0.799')\n",
      "('训练集学习次数: 9/15.. ', '训练误差: 0.520..', '测试误差: 0.516..', '模型分类准确率:0.808')\n",
      "('训练集学习次数: 10/15.. ', '训练误差: 0.492..', '测试误差: 0.484..', '模型分类准确率:0.821')\n",
      "('训练集学习次数: 11/15.. ', '训练误差: 0.471..', '测试误差: 0.461..', '模型分类准确率:0.832')\n",
      "('训练集学习次数: 12/15.. ', '训练误差: 0.450..', '测试误差: 0.438..', '模型分类准确率:0.839')\n",
      "('训练集学习次数: 13/15.. ', '训练误差: 0.434..', '测试误差: 0.435..', '模型分类准确率:0.840')\n",
      "('训练集学习次数: 14/15.. ', '训练误差: 0.422..', '测试误差: 0.405..', '模型分类准确率:0.852')\n",
      "('训练集学习次数: 15/15.. ', '训练误差: 0.405..', '测试误差: 0.402..', '模型分类准确率:0.848')\n",
      "CPU times: user 24min 58s, sys: 4.57 s, total: 25min 3s\n",
      "Wall time: 25min 12s\n"
     ]
    }
   ],
   "source": [
    "%time [lr, epochs, train_losses, test_losses, run_time]=training(trainloader, testloader, 0.003, 15)"
   ]
  },
  {
   "cell_type": "code",
   "execution_count": 11,
   "metadata": {
    "id": "I5hc4ZSE6v8Y"
   },
   "outputs": [],
   "source": [
    "import matplotlib.pyplot as plt\n",
    "%matplotlib inline"
   ]
  },
  {
   "cell_type": "code",
   "execution_count": 12,
   "metadata": {
    "colab": {
     "base_uri": "https://localhost:8080/",
     "height": 449
    },
    "id": "-tvWURnu6v8Z",
    "outputId": "69bc9541-a081-486f-a8e8-86229f5b26fa"
   },
   "outputs": [
    {
     "output_type": "execute_result",
     "data": {
      "text/plain": [
       "<matplotlib.legend.Legend at 0x7f9d378994b0>"
      ]
     },
     "metadata": {},
     "execution_count": 12
    },
    {
     "output_type": "display_data",
     "data": {
      "text/plain": [
       "<Figure size 640x480 with 1 Axes>"
      ],
      "image/png": "[encoded data removed]"
     },
     "metadata": {}
    }
   ],
   "source": [
    "for i in range(len(test_losses)):\n",
    "    test_losses[i] = test_losses[i].cpu()\n",
    "\n",
    "plt.plot(test_losses, label='Testing loss')\n",
    "plt.plot(train_losses, label='Training loss')\n",
    "plt. legend()"
   ]
  }
 ],
 "metadata": {
  "kernelspec": {
   "display_name": "Python 3",
   "language": "python",
   "name": "python3"
  },
  "language_info": {
   "codemirror_mode": {
    "name": "ipython",
    "version": 3
   },
   "file_extension": ".py",
   "mimetype": "text/x-python",
   "name": "python",
   "nbconvert_exporter": "python",
   "pygments_lexer": "ipython3",
   "version": "3.7.6"
  },
  "colab": {
   "provenance": [],
   "gpuType": "T4"
  },
  "accelerator": "GPU",
  "gpuClass": "standard"
 },
 "nbformat": 4,
 "nbformat_minor": 0
}
