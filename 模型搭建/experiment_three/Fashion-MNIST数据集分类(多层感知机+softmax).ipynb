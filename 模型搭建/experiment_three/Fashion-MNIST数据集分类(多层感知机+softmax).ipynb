{
 "cells": [
  {
   "cell_type": "code",
   "execution_count": null,
   "id": "31a3f68e-c3e1-4041-99d3-5f99bf55c4a9",
   "metadata": {
    "tags": []
   },
   "outputs": [],
   "source": [
    "import torch \n",
    "from torch import nn, optim\n",
    "import torch.nn.functional as F\n",
    "from torchvision import datasets, transforms\n"
   ]
  },
  {
   "cell_type": "code",
   "execution_count": null,
   "id": "9394bff0-79ba-4bec-ae03-daa3cee76f1b",
   "metadata": {
    "tags": []
   },
   "outputs": [],
   "source": [
    "data_dir = '/Users/sunxiaolei/Python_Projects/Deeplearning/experiment_three'\n"
   ]
  },
  {
   "cell_type": "code",
   "execution_count": null,
   "id": "4741a8e4-952b-4b3e-857b-94b9549105dd",
   "metadata": {},
   "outputs": [],
   "source": [
    "# 定义一个转换器：标准化图像数据，使得灰度数据在-1到+1之间，使得训练出的权重在0附近，利于神经网络的训练\n",
    "transform = transforms.Compose([\n",
    "    transforms.ToTensor(),\n",
    "    transforms.Normalize((0.5,), (0.5,))\n",
    "])"
   ]
  },
  {
   "cell_type": "code",
   "execution_count": null,
   "id": "15a6becd-5aa4-46c5-a7cf-4aa3844d4cba",
   "metadata": {
    "tags": []
   },
   "outputs": [],
   "source": [
    "# 下载Fashion-MNIST训练集数据，并构建训练集数据载入器 trainloader,每次从训练集中载入64张图片，每次载入都打乱顺序 #shuffle:每次重新打乱进行抽取\n",
    "batch_size= 64\n",
    "trainset = datasets.FashionMNIST(root=data_dir, download=True, train=True, transform=transform)\n",
    "trainloader = torch.utils.data.DataLoader(trainset, batch_size=batch_size, shuffle=True)\n",
    "\n",
    "testset = datasets.FashionMNIST(root=data_dir, download=True, train=False, transform=transform)\n",
    "testloader = torch.utils.data.DataLoader(testset, batch_size=64, shuffle=True)"
   ]
  },
  {
   "cell_type": "code",
   "execution_count": null,
   "id": "4aa588e8-9434-4e09-8cf8-4de9d853019e",
   "metadata": {
    "tags": []
   },
   "outputs": [],
   "source": [
    "images, labels = next(iter(trainloader))"
   ]
  },
  {
   "cell_type": "code",
   "execution_count": null,
   "id": "f0416851-5f7b-4a5e-8b52-7a99b6cd48a3",
   "metadata": {
    "tags": []
   },
   "outputs": [],
   "source": [
    "images.shape"
   ]
  },
  {
   "cell_type": "code",
   "execution_count": null,
   "id": "dfe2572c-5087-4394-af97-aa9e0fa28c76",
   "metadata": {
    "tags": []
   },
   "outputs": [],
   "source": [
    "labels.shape"
   ]
  },
  {
   "cell_type": "code",
   "execution_count": null,
   "id": "9fdb510c-894b-40ef-b92b-b81d804ff92a",
   "metadata": {
    "tags": []
   },
   "outputs": [],
   "source": [
    "index = 0\n",
    "image = images[index]\n",
    "label = labels[index]"
   ]
  },
  {
   "cell_type": "code",
   "execution_count": null,
   "id": "1f8aabd9-3963-4409-a9af-855d0715bc0e",
   "metadata": {
    "tags": []
   },
   "outputs": [],
   "source": [
    "image.shape"
   ]
  },
  {
   "cell_type": "code",
   "execution_count": null,
   "id": "9724d948-200c-44f7-9d8e-128cad771cba",
   "metadata": {
    "tags": []
   },
   "outputs": [],
   "source": [
    "import matplotlib.pyplot as plt\n",
    "plt.imshow(image.reshape(28,28))\n",
    "labellist = ['T恤','裤子','套衫','裙子','外套','凉鞋','汗衫','运 动鞋','包包','靴子']\n",
    "print(f'这张图片对应的标签是 {labellist[label]}')"
   ]
  },
  {
   "cell_type": "markdown",
   "id": "d6507805-098a-4c4c-a6b6-9c20e10fa6cd",
   "metadata": {},
   "source": [
    "# 2 搭建并训练四层全连接神经网络"
   ]
  },
  {
   "cell_type": "code",
   "execution_count": null,
   "id": "f640bf86-d3d2-47b2-bab1-55ea2f523b0a",
   "metadata": {
    "tags": []
   },
   "outputs": [],
   "source": [
    "from torch import nn, optim\n",
    "import torch.nn.functional as F\n",
    "\n",
    "\n",
    "\n",
    "class Classifier(nn.Module):\n",
    "    def __init__(self):\n",
    "        super().__init__()\n",
    "        \n",
    "        self.fc1 = nn.Linear(784, 256)\n",
    "        self.fc2 = nn.Linear(256, 128)\n",
    "        self.fc3 = nn.Linear(128, 64)\n",
    "        self.fc4 = nn.Linear(64, 10)\n",
    "        \n",
    "    def forward(self, x):\n",
    "        x = x.view(x.shape[0], -1)\n",
    "        \n",
    "        x = F.relu(self.fc1(x))\n",
    "        x = F.relu(self.fc2(x))\n",
    "        x = F.relu(self.fc3(x))\n",
    "        x = F.log_softmax(self.fc4(x), dim=1)\n",
    "        \n",
    "        return x"
   ]
  },
  {
   "cell_type": "code",
   "execution_count": null,
   "id": "838fe975-d5d9-4698-bedf-894404fc1626",
   "metadata": {
    "tags": []
   },
   "outputs": [],
   "source": [
    "# 对上面定义的Classifier类进行实例化\n",
    "model = Classifier()\n",
    "\n",
    "# 定义损失函数为交叉熵\n",
    "criterion = nn.CrossEntropyLoss()\n",
    "\n",
    "# 优化方法为SGD，学习率为0.003\n",
    "optimizer = optim.SGD(model.parameters(), lr=0.003)\n",
    "\n",
    "# 对训练集的全部数据学习15遍\n",
    "epochs = 15\n",
    "\n",
    "# 将每次训练的训练误差和测试误差存储在这两个列表里，供后面绘制误差变化折线图用\n",
    "train_losses, test_losses = [], []\n",
    "\n",
    "def train():\n",
    "    print('开始训练：')\n",
    "    for e in range(epochs):\n",
    "        running_loss = 0\n",
    "\n",
    "        # 对训练集中的所有图片都过一遍\n",
    "        for images, labels in trainloader:\n",
    "            # 将优化器中的求导结果都设为0，否则会在每次反向传播之后叠加之前的\n",
    "            optimizer.zero_grad()\n",
    "\n",
    "            # 对64张图片进行推断，计算损失函数，反向传播优化权重，将损失求和\n",
    "            log_ps = model(images)\n",
    "            loss = criterion(log_ps, labels)\n",
    "            loss.backward()\n",
    "            optimizer.step()\n",
    "            running_loss += loss.item()\n",
    "\n",
    "        # 每次学完一遍数据集，都进行以下测试操作\n",
    "        else:\n",
    "            test_loss = 0\n",
    "            accuracy = 0\n",
    "            # 测试的时候不需要开自动求导和反向传播\n",
    "            with torch.no_grad():\n",
    "                # 将模型转换为评估模式，在该模式下不会影响到训练\n",
    "                model.eval()\n",
    "\n",
    "                # 对测试集中的所有图片都过一遍\n",
    "                for images, labels in testloader:\n",
    "                    log_ps = model(images)\n",
    "                    test_loss += criterion(log_ps, labels)\n",
    "                    ps = torch.exp(log_ps)\n",
    "                    top_p, top_class = ps.topk(1, dim=1)\n",
    "                    equals = top_class == labels.view(*top_class.shape)\n",
    "                    # 等号右边为每一批64张测试图片中预测正确的占比\n",
    "                    accuracy += torch.mean(equals.type(torch.FloatTensor))\n",
    "                    # 恢复Droput\n",
    "            model.train()\n",
    "            # 将训练误差和测试误差存在两个列表里，后面绘制误差变化折线图\n",
    "            train_losses.append(running_loss / len(trainloader))\n",
    "            test_losses.append(test_loss / len(testloader))\n",
    "\n",
    "            print(\"训练集学习次数：{}/{}..\".format(e + 1, epochs),\n",
    "                  \"训练误差：{:.3f}..\".format(running_loss / len(trainloader)),\n",
    "                  \"测试误差:{:.3f}..\".format(test_loss / len(testloader)),\n",
    "                  \"模型分类准确性：{:.3f}\".format(accuracy / len(testloader)))\n"
   ]
  },
  {
   "cell_type": "code",
   "execution_count": null,
   "id": "635adf23-b025-4f8f-b6ef-f58547418141",
   "metadata": {
    "tags": []
   },
   "outputs": [],
   "source": [
    "%time train()"
   ]
  },
  {
   "cell_type": "markdown",
   "id": "3d3c29a8-45f7-446b-a0a4-d8f3ecb9fb8f",
   "metadata": {},
   "source": [
    "# 3 验证模型效果"
   ]
  },
  {
   "cell_type": "markdown",
   "id": "be56db71-4698-41a6-b842-13d9296f2afd",
   "metadata": {},
   "source": [
    "## 绘制训练误差和测试误差随学习次数增加的变化"
   ]
  },
  {
   "cell_type": "code",
   "execution_count": null,
   "id": "5f4746ea-6c68-4049-8846-11aa6731cf3f",
   "metadata": {
    "tags": []
   },
   "outputs": [],
   "source": [
    "import matplotlib.pyplot as plt\n",
    "%matplotlib inline"
   ]
  },
  {
   "cell_type": "code",
   "execution_count": null,
   "id": "4858a0f6-4518-4cf8-addf-87fcfcf7a7c2",
   "metadata": {
    "tags": []
   },
   "outputs": [],
   "source": [
    "# 将列表中的所有张量从GPU移动到CPU上\n",
    "for i, tensor in enumerate(test_losses):\n",
    "    test_losses[i] = tensor.cpu()\n",
    "\n",
    "plt.plot(train_losses, label='Training loss')\n",
    "plt.plot(test_losses, label='Validation loss')\n",
    "plt.legend()"
   ]
  },
  {
   "cell_type": "code",
   "execution_count": null,
   "id": "3e2f5def-a881-493e-875c-083897854bf0",
   "metadata": {},
   "outputs": [],
   "source": []
  }
 ],
 "metadata": {
  "kernelspec": {
   "display_name": "Python 3 (ipykernel)",
   "language": "python",
   "name": "python3"
  },
  "language_info": {
   "codemirror_mode": {
    "name": "ipython",
    "version": 3
   },
   "file_extension": ".py",
   "mimetype": "text/x-python",
   "name": "python",
   "nbconvert_exporter": "python",
   "pygments_lexer": "ipython3",
   "version": "3.9.16"
  }
 },
 "nbformat": 4,
 "nbformat_minor": 5
}
