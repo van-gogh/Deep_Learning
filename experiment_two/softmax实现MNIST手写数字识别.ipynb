{
 "cells": [
  {
   "cell_type": "markdown",
   "id": "6a66af13-473e-49ee-9466-457f05a0445c",
   "metadata": {},
   "source": [
    "# 实验二：手写数字预测"
   ]
  },
  {
   "cell_type": "code",
   "execution_count": 1,
   "id": "e77088ff-cfc1-4c04-9ebf-60f5568d4db4",
   "metadata": {},
   "outputs": [
    {
     "name": "stdout",
     "output_type": "stream",
     "text": [
      "本机IP地址： 127.0.0.1\n"
     ]
    }
   ],
   "source": [
    "import socket\n",
    "hostname =socket.gethostname()\n",
    "ip = socket.gethostbyname(hostname)\n",
    "print(\"本机IP地址：\",ip)"
   ]
  },
  {
   "cell_type": "code",
   "execution_count": 2,
   "id": "21dc00aa-9714-4e85-867c-38b282077078",
   "metadata": {},
   "outputs": [],
   "source": [
    "import torch\n",
    "import torch.nn as nn\n",
    "import torch.optim as optim\n",
    "import matplotlib.pyplot as plt\n",
    "from torchvision import datasets, transforms\n",
    "%matplotlib inline"
   ]
  },
  {
   "cell_type": "markdown",
   "id": "3db63b61",
   "metadata": {},
   "source": [
    "## 一、加载数据及数据处理"
   ]
  },
  {
   "cell_type": "code",
   "execution_count": 3,
   "id": "4acbf02f-4290-4f75-a089-524c8346f8bb",
   "metadata": {},
   "outputs": [],
   "source": [
    "transform = transforms.Compose([\n",
    "    transforms.ToTensor(),\n",
    "#    transforms.Normalize((0.1307), (0.3081))\n",
    "])"
   ]
  },
  {
   "cell_type": "code",
   "execution_count": 4,
   "id": "cfc1bac7-ad1c-4598-ba5f-5a336f8835a2",
   "metadata": {},
   "outputs": [],
   "source": [
    "data_dir = '/Users/sunxiaolei/Downloads/Deep Learning/实验材料/02MNIST手写数字分类(softmax)/datasets'\n",
    "# 加载 MNIST 数据集\n",
    "# train_set = datasets.MNIST(root=data_dir, train=True,download=True)\n",
    "train_set = datasets.MNIST(root=data_dir, train=True,download=True,transform=transform)\n",
    "# test_set = datasets.MNIST(root=data_dir, train=False,download=True)\n",
    "test_set = datasets.MNIST(root=data_dir, train=False,download=True, transform=transform)"
   ]
  },
  {
   "cell_type": "code",
   "execution_count": 5,
   "id": "6816849b-a94f-4b16-9fee-059d2c431497",
   "metadata": {},
   "outputs": [
    {
     "name": "stdout",
     "output_type": "stream",
     "text": [
      "MNIST 数据集的均值为 0.1307，标准差为0.3081\n"
     ]
    }
   ],
   "source": [
    "train_data_mean = train_set.data.float().mean() / 255.\n",
    "train_data_std = train_set.data.float().std() / 255.\n",
    "print(f\"MNIST 数据集的均值为 {train_data_mean:.4f}，标准差为{train_data_std:.4f}\")"
   ]
  },
  {
   "cell_type": "code",
   "execution_count": 6,
   "id": "a6b527c8-0e86-401f-b99e-97613eab47d9",
   "metadata": {},
   "outputs": [
    {
     "name": "stdout",
     "output_type": "stream",
     "text": [
      "label is :0\n"
     ]
    },
    {
     "data": {
      "image/png": "[encoded data removed]",
      "text/plain": [
       "<Figure size 640x480 with 1 Axes>"
      ]
     },
     "metadata": {},
     "output_type": "display_data"
    }
   ],
   "source": [
    "index = 1000\n",
    "demo_pic = train_set.data[index]\n",
    "plt.imshow(demo_pic, cmap='gray')\n",
    "print(f'label is :{train_set.targets[index]}')"
   ]
  },
  {
   "cell_type": "code",
   "execution_count": 7,
   "id": "f25a78bf-e355-4e8a-a609-61413114a861",
   "metadata": {},
   "outputs": [],
   "source": [
    "# 定义数据加载器\n",
    "batch_size = 128\n",
    "train_loader = torch.utils.data.DataLoader(\n",
    "train_set,batch_size=batch_size, shuffle=True\n",
    ")\n",
    "test_loader = torch.utils.data.DataLoader(\n",
    "test_set,batch_size=batch_size, shuffle=False\n",
    ")"
   ]
  },
  {
   "cell_type": "markdown",
   "id": "3b18a9f5",
   "metadata": {},
   "source": [
    "## 二、定义模型"
   ]
  },
  {
   "cell_type": "code",
   "execution_count": 8,
   "id": "3b2eecf2-c4b3-4e0c-9aa7-0f2ec72a4e5d",
   "metadata": {},
   "outputs": [],
   "source": [
    "class SoftMaxModel(nn.Module):\n",
    "    def __init__(self):\n",
    "        super(SoftMaxModel, self).__init__()\n",
    "        self.linear = nn.Linear(784,10)\n",
    "        \n",
    "    def forward(self, x):\n",
    "        x = x.view(-1, 784)\n",
    "        return self.linear(x)"
   ]
  },
  {
   "cell_type": "markdown",
   "id": "641b8507",
   "metadata": {},
   "source": [
    "## 三、训练模型"
   ]
  },
  {
   "cell_type": "code",
   "execution_count": 9,
   "id": "837d8366-0242-4f4d-9375-324a17404f23",
   "metadata": {},
   "outputs": [],
   "source": [
    "def train():\n",
    "    model = SoftMaxModel()\n",
    "    #model = model.cuda()\n",
    "    # 定义优化器和损失函数\n",
    "    lr = 0.1\n",
    "    criterion = nn.CrossEntropyLoss()  # 交叉熵\n",
    "    optimizer = optim.SGD(model.parameters(), lr=lr)\n",
    "    \n",
    "    # 训练\n",
    "    num_epochs = 15\n",
    "    losses = []\n",
    "    for epoch in range(num_epochs):\n",
    "        epoch_loss = 0.\n",
    "        j = 0\n",
    "        for i, (images, labels) in enumerate(train_loader):\n",
    "            j += 1\n",
    "            #images = images.cuda()\n",
    "            #labels = labels.cuda()\n",
    "            outputs = model(images)\n",
    "            loss = criterion(outputs, labels)\n",
    "            \n",
    "            optimizer.zero_grad()\n",
    "            loss.backward()\n",
    "            optimizer.step()\n",
    "            \n",
    "            epoch_loss += loss.item()\n",
    "            if (i+1) % 100 == 0:\n",
    "                print('Epoch[{}/{}], Step[{}/{}], Loss:{:.4f}'\n",
    "                .format(epoch+1,num_epochs,i+1,len(train_loader),loss.item())) \n",
    "        losses.append(epoch_loss / j)\n",
    "    return losses, model\n",
    "            "
   ]
  },
  {
   "cell_type": "code",
   "execution_count": 10,
   "id": "a32b0f32-209d-4542-847c-1470a8e8a377",
   "metadata": {},
   "outputs": [
    {
     "name": "stdout",
     "output_type": "stream",
     "text": [
      "Epoch[1/15], Step[100/469], Loss:0.6686\n",
      "Epoch[1/15], Step[200/469], Loss:0.4548\n",
      "Epoch[1/15], Step[300/469], Loss:0.4690\n",
      "Epoch[1/15], Step[400/469], Loss:0.3690\n",
      "Epoch[2/15], Step[100/469], Loss:0.3573\n",
      "Epoch[2/15], Step[200/469], Loss:0.4138\n",
      "Epoch[2/15], Step[300/469], Loss:0.3239\n",
      "Epoch[2/15], Step[400/469], Loss:0.3449\n",
      "Epoch[3/15], Step[100/469], Loss:0.2648\n",
      "Epoch[3/15], Step[200/469], Loss:0.3002\n",
      "Epoch[3/15], Step[300/469], Loss:0.2830\n",
      "Epoch[3/15], Step[400/469], Loss:0.4273\n",
      "Epoch[4/15], Step[100/469], Loss:0.3957\n",
      "Epoch[4/15], Step[200/469], Loss:0.1995\n",
      "Epoch[4/15], Step[300/469], Loss:0.3124\n",
      "Epoch[4/15], Step[400/469], Loss:0.2560\n",
      "Epoch[5/15], Step[100/469], Loss:0.5475\n",
      "Epoch[5/15], Step[200/469], Loss:0.2068\n",
      "Epoch[5/15], Step[300/469], Loss:0.3848\n",
      "Epoch[5/15], Step[400/469], Loss:0.3586\n",
      "Epoch[6/15], Step[100/469], Loss:0.3643\n",
      "Epoch[6/15], Step[200/469], Loss:0.3417\n",
      "Epoch[6/15], Step[300/469], Loss:0.2114\n",
      "Epoch[6/15], Step[400/469], Loss:0.3679\n",
      "Epoch[7/15], Step[100/469], Loss:0.3268\n",
      "Epoch[7/15], Step[200/469], Loss:0.2502\n",
      "Epoch[7/15], Step[300/469], Loss:0.3176\n",
      "Epoch[7/15], Step[400/469], Loss:0.4929\n",
      "Epoch[8/15], Step[100/469], Loss:0.2293\n",
      "Epoch[8/15], Step[200/469], Loss:0.4438\n",
      "Epoch[8/15], Step[300/469], Loss:0.2882\n",
      "Epoch[8/15], Step[400/469], Loss:0.3557\n",
      "Epoch[9/15], Step[100/469], Loss:0.2993\n",
      "Epoch[9/15], Step[200/469], Loss:0.3685\n",
      "Epoch[9/15], Step[300/469], Loss:0.2727\n",
      "Epoch[9/15], Step[400/469], Loss:0.2143\n",
      "Epoch[10/15], Step[100/469], Loss:0.2976\n",
      "Epoch[10/15], Step[200/469], Loss:0.2790\n",
      "Epoch[10/15], Step[300/469], Loss:0.3274\n",
      "Epoch[10/15], Step[400/469], Loss:0.2431\n",
      "Epoch[11/15], Step[100/469], Loss:0.2924\n",
      "Epoch[11/15], Step[200/469], Loss:0.3508\n",
      "Epoch[11/15], Step[300/469], Loss:0.2544\n",
      "Epoch[11/15], Step[400/469], Loss:0.2752\n",
      "Epoch[12/15], Step[100/469], Loss:0.2351\n",
      "Epoch[12/15], Step[200/469], Loss:0.3972\n",
      "Epoch[12/15], Step[300/469], Loss:0.2474\n",
      "Epoch[12/15], Step[400/469], Loss:0.2375\n",
      "Epoch[13/15], Step[100/469], Loss:0.2667\n",
      "Epoch[13/15], Step[200/469], Loss:0.3375\n",
      "Epoch[13/15], Step[300/469], Loss:0.2223\n",
      "Epoch[13/15], Step[400/469], Loss:0.2497\n",
      "Epoch[14/15], Step[100/469], Loss:0.2001\n",
      "Epoch[14/15], Step[200/469], Loss:0.1815\n",
      "Epoch[14/15], Step[300/469], Loss:0.2757\n",
      "Epoch[14/15], Step[400/469], Loss:0.3445\n",
      "Epoch[15/15], Step[100/469], Loss:0.3239\n",
      "Epoch[15/15], Step[200/469], Loss:0.2453\n",
      "Epoch[15/15], Step[300/469], Loss:0.4171\n",
      "Epoch[15/15], Step[400/469], Loss:0.2976\n",
      "CPU times: user 57.2 s, sys: 635 ms, total: 57.9 s\n",
      "Wall time: 58 s\n"
     ]
    }
   ],
   "source": [
    "%time losses, model = train()"
   ]
  },
  {
   "cell_type": "code",
   "execution_count": 35,
   "id": "edbfb8ef-0d5b-4433-889f-b3eb1733b07a",
   "metadata": {},
   "outputs": [],
   "source": [
    "import matplotlib.pyplot as plt\n",
    "%matplotlib inline"
   ]
  },
  {
   "cell_type": "code",
   "execution_count": 36,
   "id": "d777a3d8-585d-46f7-a474-084a0d369b2d",
   "metadata": {},
   "outputs": [
    {
     "data": {
      "text/plain": [
       "[<matplotlib.lines.Line2D at 0x13b7156a0>]"
      ]
     },
     "execution_count": 36,
     "metadata": {},
     "output_type": "execute_result"
    },
    {
     "data": {
      "image/png": "[encoded data removed]",
      "text/plain": [
       "<Figure size 640x480 with 1 Axes>"
      ]
     },
     "metadata": {},
     "output_type": "display_data"
    }
   ],
   "source": [
    "plt.plot(losses)"
   ]
  },
  {
   "cell_type": "markdown",
   "id": "ea0f4110",
   "metadata": {},
   "source": [
    "## 四、测试模型"
   ]
  },
  {
   "cell_type": "code",
   "execution_count": 37,
   "id": "a87c0f7d-a2fb-4b61-9972-bbc3ccd88bf5",
   "metadata": {},
   "outputs": [
    {
     "name": "stdout",
     "output_type": "stream",
     "text": [
      "Accuracy on Test Set: 90.90%\n"
     ]
    }
   ],
   "source": [
    "# 测试模型\n",
    "model.cpu()\n",
    "with torch.no_grad(): #关闭模型训练\n",
    "    correct = 0\n",
    "    total = 0\n",
    "    for images, labels in test_loader:\n",
    "        outputs = model(images)\n",
    "        _, predicted = torch.max(outputs.data, 1)\n",
    "        total += labels.size(0)\n",
    "        correct += (predicted == labels).sum().item()\n",
    "    print('Accuracy on Test Set: {:.2f}%'.format(100 * correct\n",
    "/ total))"
   ]
  },
  {
   "cell_type": "code",
   "execution_count": null,
   "id": "c8439c28",
   "metadata": {},
   "outputs": [],
   "source": []
  }
 ],
 "metadata": {
  "kernelspec": {
   "display_name": "Python 3 (ipykernel)",
   "language": "python",
   "name": "python3"
  },
  "language_info": {
   "codemirror_mode": {
    "name": "ipython",
    "version": 3
   },
   "file_extension": ".py",
   "mimetype": "text/x-python",
   "name": "python",
   "nbconvert_exporter": "python",
   "pygments_lexer": "ipython3",
   "version": "3.9.16"
  }
 },
 "nbformat": 4,
 "nbformat_minor": 5
}
